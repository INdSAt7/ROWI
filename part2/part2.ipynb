{
 "cells": [
  {
   "cell_type": "code",
   "execution_count": 24,
   "metadata": {},
   "outputs": [],
   "source": [
    "import pandas as pd\n",
    "import numpy as np\n",
    "import seaborn as sns\n",
    "from scipy.interpolate import interp1d\n",
    "from scipy.integrate import quad\n",
    "from sklearn.metrics import roc_curve, auc, roc_auc_score\n",
    "from matplotlib import pyplot as plt\n",
    "from lifelines import KaplanMeierFitter\n",
    "\n",
    "%matplotlib inline\n",
    "\n",
    "import plotly.graph_objects as go\n",
    "import plotly.figure_factory as ff"
   ]
  },
  {
   "cell_type": "code",
   "execution_count": 11,
   "metadata": {},
   "outputs": [
    {
     "data": {
      "text/html": [
       "<div>\n",
       "<style scoped>\n",
       "    .dataframe tbody tr th:only-of-type {\n",
       "        vertical-align: middle;\n",
       "    }\n",
       "\n",
       "    .dataframe tbody tr th {\n",
       "        vertical-align: top;\n",
       "    }\n",
       "\n",
       "    .dataframe thead th {\n",
       "        text-align: right;\n",
       "    }\n",
       "</style>\n",
       "<table border=\"1\" class=\"dataframe\">\n",
       "  <thead>\n",
       "    <tr style=\"text-align: right;\">\n",
       "      <th></th>\n",
       "      <th>PD для 2-х</th>\n",
       "      <th>Статус</th>\n",
       "    </tr>\n",
       "  </thead>\n",
       "  <tbody>\n",
       "    <tr>\n",
       "      <th>0</th>\n",
       "      <td>0.0008</td>\n",
       "      <td>Хороший</td>\n",
       "    </tr>\n",
       "    <tr>\n",
       "      <th>1</th>\n",
       "      <td>0.0009</td>\n",
       "      <td>Хороший</td>\n",
       "    </tr>\n",
       "    <tr>\n",
       "      <th>2</th>\n",
       "      <td>0.0010</td>\n",
       "      <td>Хороший</td>\n",
       "    </tr>\n",
       "    <tr>\n",
       "      <th>3</th>\n",
       "      <td>0.0010</td>\n",
       "      <td>Хороший</td>\n",
       "    </tr>\n",
       "    <tr>\n",
       "      <th>4</th>\n",
       "      <td>0.0010</td>\n",
       "      <td>Хороший</td>\n",
       "    </tr>\n",
       "    <tr>\n",
       "      <th>...</th>\n",
       "      <td>...</td>\n",
       "      <td>...</td>\n",
       "    </tr>\n",
       "    <tr>\n",
       "      <th>389</th>\n",
       "      <td>0.0286</td>\n",
       "      <td>Хороший</td>\n",
       "    </tr>\n",
       "    <tr>\n",
       "      <th>390</th>\n",
       "      <td>0.0301</td>\n",
       "      <td>Хороший</td>\n",
       "    </tr>\n",
       "    <tr>\n",
       "      <th>391</th>\n",
       "      <td>0.0303</td>\n",
       "      <td>Хороший</td>\n",
       "    </tr>\n",
       "    <tr>\n",
       "      <th>392</th>\n",
       "      <td>0.0353</td>\n",
       "      <td>Хороший</td>\n",
       "    </tr>\n",
       "    <tr>\n",
       "      <th>393</th>\n",
       "      <td>0.0479</td>\n",
       "      <td>Хороший</td>\n",
       "    </tr>\n",
       "  </tbody>\n",
       "</table>\n",
       "<p>394 rows × 2 columns</p>\n",
       "</div>"
      ],
      "text/plain": [
       "     PD для 2-х   Статус\n",
       "0        0.0008  Хороший\n",
       "1        0.0009  Хороший\n",
       "2        0.0010  Хороший\n",
       "3        0.0010  Хороший\n",
       "4        0.0010  Хороший\n",
       "..          ...      ...\n",
       "389      0.0286  Хороший\n",
       "390      0.0301  Хороший\n",
       "391      0.0303  Хороший\n",
       "392      0.0353  Хороший\n",
       "393      0.0479  Хороший\n",
       "\n",
       "[394 rows x 2 columns]"
      ]
     },
     "execution_count": 11,
     "metadata": {},
     "output_type": "execute_result"
    }
   ],
   "source": [
    "data = pd.read_excel('data\\\\part2.xlsx') \n",
    "data"
   ]
  },
  {
   "cell_type": "code",
   "execution_count": 12,
   "metadata": {},
   "outputs": [
    {
     "data": {
      "text/html": [
       "<div>\n",
       "<style scoped>\n",
       "    .dataframe tbody tr th:only-of-type {\n",
       "        vertical-align: middle;\n",
       "    }\n",
       "\n",
       "    .dataframe tbody tr th {\n",
       "        vertical-align: top;\n",
       "    }\n",
       "\n",
       "    .dataframe thead th {\n",
       "        text-align: right;\n",
       "    }\n",
       "</style>\n",
       "<table border=\"1\" class=\"dataframe\">\n",
       "  <thead>\n",
       "    <tr style=\"text-align: right;\">\n",
       "      <th></th>\n",
       "      <th>PD</th>\n",
       "      <th>status</th>\n",
       "    </tr>\n",
       "  </thead>\n",
       "  <tbody>\n",
       "    <tr>\n",
       "      <th>0</th>\n",
       "      <td>0.0008</td>\n",
       "      <td>0</td>\n",
       "    </tr>\n",
       "    <tr>\n",
       "      <th>1</th>\n",
       "      <td>0.0009</td>\n",
       "      <td>0</td>\n",
       "    </tr>\n",
       "    <tr>\n",
       "      <th>2</th>\n",
       "      <td>0.0010</td>\n",
       "      <td>0</td>\n",
       "    </tr>\n",
       "    <tr>\n",
       "      <th>3</th>\n",
       "      <td>0.0010</td>\n",
       "      <td>0</td>\n",
       "    </tr>\n",
       "    <tr>\n",
       "      <th>4</th>\n",
       "      <td>0.0010</td>\n",
       "      <td>0</td>\n",
       "    </tr>\n",
       "    <tr>\n",
       "      <th>...</th>\n",
       "      <td>...</td>\n",
       "      <td>...</td>\n",
       "    </tr>\n",
       "    <tr>\n",
       "      <th>389</th>\n",
       "      <td>0.0286</td>\n",
       "      <td>0</td>\n",
       "    </tr>\n",
       "    <tr>\n",
       "      <th>390</th>\n",
       "      <td>0.0301</td>\n",
       "      <td>0</td>\n",
       "    </tr>\n",
       "    <tr>\n",
       "      <th>391</th>\n",
       "      <td>0.0303</td>\n",
       "      <td>0</td>\n",
       "    </tr>\n",
       "    <tr>\n",
       "      <th>392</th>\n",
       "      <td>0.0353</td>\n",
       "      <td>0</td>\n",
       "    </tr>\n",
       "    <tr>\n",
       "      <th>393</th>\n",
       "      <td>0.0479</td>\n",
       "      <td>0</td>\n",
       "    </tr>\n",
       "  </tbody>\n",
       "</table>\n",
       "<p>394 rows × 2 columns</p>\n",
       "</div>"
      ],
      "text/plain": [
       "         PD  status\n",
       "0    0.0008       0\n",
       "1    0.0009       0\n",
       "2    0.0010       0\n",
       "3    0.0010       0\n",
       "4    0.0010       0\n",
       "..      ...     ...\n",
       "389  0.0286       0\n",
       "390  0.0301       0\n",
       "391  0.0303       0\n",
       "392  0.0353       0\n",
       "393  0.0479       0\n",
       "\n",
       "[394 rows x 2 columns]"
      ]
     },
     "execution_count": 12,
     "metadata": {},
     "output_type": "execute_result"
    }
   ],
   "source": [
    "data.rename(columns={\n",
    "    \"PD для 2-х\": \"PD\",\n",
    "    \"Статус\": \"status\"\n",
    "}, inplace=True)\n",
    "\n",
    "data[\"status\"] = data[\"status\"].map({\"Дефолт\": 1, \"Хороший\": 0})\n",
    "\n",
    "data"
   ]
  },
  {
   "cell_type": "code",
   "execution_count": 13,
   "metadata": {},
   "outputs": [],
   "source": [
    "def gini(y_true, y_scores):\n",
    "    fpr, tpr, _ = roc_curve(y_true, y_scores)\n",
    "    return 2 * auc(fpr, tpr) - 1"
   ]
  },
  {
   "cell_type": "code",
   "execution_count": 14,
   "metadata": {},
   "outputs": [
    {
     "name": "stdout",
     "output_type": "stream",
     "text": [
      "GINI: 0.5683\n"
     ]
    }
   ],
   "source": [
    "gini_value = gini(data[\"status\"], data[\"PD\"])\n",
    "print(f\"GINI: {gini_value:.4f}\")"
   ]
  },
  {
   "cell_type": "code",
   "execution_count": 15,
   "metadata": {},
   "outputs": [
    {
     "data": {
      "image/png": "[encoded data removed]",
      "text/plain": [
       "<Figure size 600x600 with 1 Axes>"
      ]
     },
     "metadata": {},
     "output_type": "display_data"
    }
   ],
   "source": [
    "fpr, tpr, _ = roc_curve(data[\"status\"], data[\"PD\"])\n",
    "roc_auc = auc(fpr, tpr)\n",
    "\n",
    "plt.figure(figsize=(6, 6))\n",
    "plt.plot(fpr, tpr, color=\"blue\", label=f\"ROC curve (AUC = {roc_auc:.2f})\")\n",
    "plt.plot([0, 1], [0, 1], color=\"gray\", linestyle=\"--\")  # Диагональ случайного классификатора\n",
    "plt.xlabel(\"False Positive Rate\")\n",
    "plt.ylabel(\"True Positive Rate\")\n",
    "plt.title(\"ROC-AUC Curve\")\n",
    "plt.legend()\n",
    "plt.grid()\n",
    "plt.show()"
   ]
  },
  {
   "cell_type": "code",
   "execution_count": 16,
   "metadata": {},
   "outputs": [
    {
     "name": "stdout",
     "output_type": "stream",
     "text": [
      "KS: 0.6299\n"
     ]
    }
   ],
   "source": [
    "ks_value = np.max(tpr - fpr)\n",
    "print(f\"KS: {ks_value:.4f}\")"
   ]
  },
  {
   "cell_type": "code",
   "execution_count": 18,
   "metadata": {},
   "outputs": [
    {
     "data": {
      "image/png": "[encoded data removed]",
      "text/plain": [
       "<Figure size 800x500 with 1 Axes>"
      ]
     },
     "metadata": {},
     "output_type": "display_data"
    }
   ],
   "source": [
    "plt.figure(figsize=(8, 5))\n",
    "sns.kdeplot(data.loc[data[\"status\"] == 1, \"PD\"], label=\"Дефолт\", fill=True, color=\"red\")\n",
    "sns.kdeplot(data.loc[data[\"status\"] == 0, \"PD\"], label=\"Хороший\", fill=True, color=\"green\")\n",
    "plt.xlabel(\"PD\")\n",
    "plt.ylabel(\"Density\")\n",
    "plt.title(\"Распределение вероятности дефолта (PD) по классам\")\n",
    "plt.legend()\n",
    "plt.grid()\n",
    "plt.show()"
   ]
  },
  {
   "cell_type": "code",
   "execution_count": 21,
   "metadata": {},
   "outputs": [
    {
     "data": {
      "image/png": "[encoded data removed]",
      "text/plain": [
       "<Figure size 800x500 with 1 Axes>"
      ]
     },
     "metadata": {},
     "output_type": "display_data"
    }
   ],
   "source": [
    "kmf = KaplanMeierFitter()\n",
    "\n",
    "T = data[\"PD\"]  # Переменная времени (PD в данном случае)\n",
    "E = data[\"status\"]  # Переменная события (1 - дефолт, 0 - нет)\n",
    "\n",
    "plt.figure(figsize=(8, 5))\n",
    "kmf.fit(T, event_observed=E, label=\"Survival Curve\")\n",
    "kmf.plot_survival_function()\n",
    "plt.xlabel(\"PD\")\n",
    "plt.ylabel(\"Probability of Survival\")\n",
    "plt.title(\"Кривая выживания (Survival Analysis)\")\n",
    "plt.grid()\n",
    "plt.show()"
   ]
  },
  {
   "cell_type": "code",
   "execution_count": null,
   "metadata": {},
   "outputs": [
    {
     "data": {
      "application/vnd.plotly.v1+json": {
       "config": {
        "plotlyServerURL": "https://plot.ly"
       },
       "data": [
        {
         "line": {
          "color": "blue"
         },
         "mode": "lines",
         "name": "ROC curve (AUC = 0.78)",
         "type": "scatter",
         "x": [
          0,
          0.002638522427440633,
          0.05013192612137203,
          0.05013192612137203,
          0.055408970976253295,
          0.05804749340369393,
          0.0633245382585752,
          0.06596306068601583,
          0.0712401055408971,
          0.07387862796833773,
          0.079155672823219,
          0.08179419525065963,
          0.08179419525065963,
          0.09234828496042216,
          0.09762532981530343,
          0.10026385224274406,
          0.10290237467018469,
          0.10290237467018469,
          0.10817941952506596,
          0.11081794195250659,
          0.11609498680738786,
          0.12137203166226913,
          0.1345646437994723,
          0.1345646437994723,
          0.14511873350923482,
          0.15567282321899736,
          0.16094986807387862,
          0.17678100263852242,
          0.18733509234828497,
          0.19525065963060687,
          0.20580474934036938,
          0.20844327176781002,
          0.20844327176781002,
          0.22163588390501318,
          0.22691292875989447,
          0.23482849604221637,
          0.24802110817941952,
          0.2532981530343008,
          0.25857519788918204,
          0.2612137203166227,
          0.2691292875989446,
          0.27440633245382584,
          0.28232189973614774,
          0.2849604221635884,
          0.2849604221635884,
          0.29023746701846964,
          0.3034300791556728,
          0.3113456464379947,
          0.35356200527704484,
          0.40105540897097625,
          0.42216358839050133,
          0.45382585751978893,
          0.5013192612137203,
          0.525065963060686,
          0.5408970976253298,
          0.6094986807387863,
          0.6411609498680739,
          0.6807387862796834,
          0.712401055408971,
          0.7467018469656992,
          0.7783641160949868,
          0.7994722955145118,
          0.8100263852242744,
          0.841688654353562,
          0.8601583113456465,
          0.8759894459102903,
          0.8970976253298153,
          0.9366754617414248,
          0.9630606860158312,
          0.978891820580475,
          0.9841688654353562,
          0.9868073878627969,
          0.9947229551451188,
          1
         ],
         "y": [
          0,
          0,
          0,
          0.06666666666666667,
          0.06666666666666667,
          0.06666666666666667,
          0.06666666666666667,
          0.06666666666666667,
          0.06666666666666667,
          0.06666666666666667,
          0.06666666666666667,
          0.06666666666666667,
          0.13333333333333333,
          0.13333333333333333,
          0.13333333333333333,
          0.13333333333333333,
          0.2,
          0.3333333333333333,
          0.3333333333333333,
          0.4,
          0.4,
          0.4,
          0.4,
          0.5333333333333333,
          0.5333333333333333,
          0.5333333333333333,
          0.5333333333333333,
          0.5333333333333333,
          0.5333333333333333,
          0.5333333333333333,
          0.5333333333333333,
          0.5333333333333333,
          0.6,
          0.6,
          0.6,
          0.6,
          0.6,
          0.6,
          0.6,
          0.6666666666666666,
          0.6666666666666666,
          0.6666666666666666,
          0.6666666666666666,
          0.7333333333333333,
          0.8,
          0.8,
          0.9333333333333333,
          0.9333333333333333,
          0.9333333333333333,
          0.9333333333333333,
          0.9333333333333333,
          0.9333333333333333,
          0.9333333333333333,
          0.9333333333333333,
          0.9333333333333333,
          0.9333333333333333,
          0.9333333333333333,
          0.9333333333333333,
          0.9333333333333333,
          0.9333333333333333,
          0.9333333333333333,
          1,
          1,
          1,
          1,
          1,
          1,
          1,
          1,
          1,
          1,
          1,
          1,
          1
         ]
        },
        {
         "line": {
          "color": "gray",
          "dash": "dash"
         },
         "mode": "lines",
         "name": "Random classifier",
         "type": "scatter",
         "x": [
          0,
          1
         ],
         "y": [
          0,
          1
         ]
        }
       ],
       "layout": {
        "template": {
         "data": {
          "bar": [
           {
            "error_x": {
             "color": "#2a3f5f"
            },
            "error_y": {
             "color": "#2a3f5f"
            },
            "marker": {
             "line": {
              "color": "#E5ECF6",
              "width": 0.5
             },
             "pattern": {
              "fillmode": "overlay",
              "size": 10,
              "solidity": 0.2
             }
            },
            "type": "bar"
           }
          ],
          "barpolar": [
           {
            "marker": {
             "line": {
              "color": "#E5ECF6",
              "width": 0.5
             },
             "pattern": {
              "fillmode": "overlay",
              "size": 10,
              "solidity": 0.2
             }
            },
            "type": "barpolar"
           }
          ],
          "carpet": [
           {
            "aaxis": {
             "endlinecolor": "#2a3f5f",
             "gridcolor": "white",
             "linecolor": "white",
             "minorgridcolor": "white",
             "startlinecolor": "#2a3f5f"
            },
            "baxis": {
             "endlinecolor": "#2a3f5f",
             "gridcolor": "white",
             "linecolor": "white",
             "minorgridcolor": "white",
             "startlinecolor": "#2a3f5f"
            },
            "type": "carpet"
           }
          ],
          "choropleth": [
           {
            "colorbar": {
             "outlinewidth": 0,
             "ticks": ""
            },
            "type": "choropleth"
           }
          ],
          "contour": [
           {
            "colorbar": {
             "outlinewidth": 0,
             "ticks": ""
            },
            "colorscale": [
             [
              0,
              "#0d0887"
             ],
             [
              0.1111111111111111,
              "#46039f"
             ],
             [
              0.2222222222222222,
              "#7201a8"
             ],
             [
              0.3333333333333333,
              "#9c179e"
             ],
             [
              0.4444444444444444,
              "#bd3786"
             ],
             [
              0.5555555555555556,
              "#d8576b"
             ],
             [
              0.6666666666666666,
              "#ed7953"
             ],
             [
              0.7777777777777778,
              "#fb9f3a"
             ],
             [
              0.8888888888888888,
              "#fdca26"
             ],
             [
              1,
              "#f0f921"
             ]
            ],
            "type": "contour"
           }
          ],
          "contourcarpet": [
           {
            "colorbar": {
             "outlinewidth": 0,
             "ticks": ""
            },
            "type": "contourcarpet"
           }
          ],
          "heatmap": [
           {
            "colorbar": {
             "outlinewidth": 0,
             "ticks": ""
            },
            "colorscale": [
             [
              0,
              "#0d0887"
             ],
             [
              0.1111111111111111,
              "#46039f"
             ],
             [
              0.2222222222222222,
              "#7201a8"
             ],
             [
              0.3333333333333333,
              "#9c179e"
             ],
             [
              0.4444444444444444,
              "#bd3786"
             ],
             [
              0.5555555555555556,
              "#d8576b"
             ],
             [
              0.6666666666666666,
              "#ed7953"
             ],
             [
              0.7777777777777778,
              "#fb9f3a"
             ],
             [
              0.8888888888888888,
              "#fdca26"
             ],
             [
              1,
              "#f0f921"
             ]
            ],
            "type": "heatmap"
           }
          ],
          "heatmapgl": [
           {
            "colorbar": {
             "outlinewidth": 0,
             "ticks": ""
            },
            "colorscale": [
             [
              0,
              "#0d0887"
             ],
             [
              0.1111111111111111,
              "#46039f"
             ],
             [
              0.2222222222222222,
              "#7201a8"
             ],
             [
              0.3333333333333333,
              "#9c179e"
             ],
             [
              0.4444444444444444,
              "#bd3786"
             ],
             [
              0.5555555555555556,
              "#d8576b"
             ],
             [
              0.6666666666666666,
              "#ed7953"
             ],
             [
              0.7777777777777778,
              "#fb9f3a"
             ],
             [
              0.8888888888888888,
              "#fdca26"
             ],
             [
              1,
              "#f0f921"
             ]
            ],
            "type": "heatmapgl"
           }
          ],
          "histogram": [
           {
            "marker": {
             "pattern": {
              "fillmode": "overlay",
              "size": 10,
              "solidity": 0.2
             }
            },
            "type": "histogram"
           }
          ],
          "histogram2d": [
           {
            "colorbar": {
             "outlinewidth": 0,
             "ticks": ""
            },
            "colorscale": [
             [
              0,
              "#0d0887"
             ],
             [
              0.1111111111111111,
              "#46039f"
             ],
             [
              0.2222222222222222,
              "#7201a8"
             ],
             [
              0.3333333333333333,
              "#9c179e"
             ],
             [
              0.4444444444444444,
              "#bd3786"
             ],
             [
              0.5555555555555556,
              "#d8576b"
             ],
             [
              0.6666666666666666,
              "#ed7953"
             ],
             [
              0.7777777777777778,
              "#fb9f3a"
             ],
             [
              0.8888888888888888,
              "#fdca26"
             ],
             [
              1,
              "#f0f921"
             ]
            ],
            "type": "histogram2d"
           }
          ],
          "histogram2dcontour": [
           {
            "colorbar": {
             "outlinewidth": 0,
             "ticks": ""
            },
            "colorscale": [
             [
              0,
              "#0d0887"
             ],
             [
              0.1111111111111111,
              "#46039f"
             ],
             [
              0.2222222222222222,
              "#7201a8"
             ],
             [
              0.3333333333333333,
              "#9c179e"
             ],
             [
              0.4444444444444444,
              "#bd3786"
             ],
             [
              0.5555555555555556,
              "#d8576b"
             ],
             [
              0.6666666666666666,
              "#ed7953"
             ],
             [
              0.7777777777777778,
              "#fb9f3a"
             ],
             [
              0.8888888888888888,
              "#fdca26"
             ],
             [
              1,
              "#f0f921"
             ]
            ],
            "type": "histogram2dcontour"
           }
          ],
          "mesh3d": [
           {
            "colorbar": {
             "outlinewidth": 0,
             "ticks": ""
            },
            "type": "mesh3d"
           }
          ],
          "parcoords": [
           {
            "line": {
             "colorbar": {
              "outlinewidth": 0,
              "ticks": ""
             }
            },
            "type": "parcoords"
           }
          ],
          "pie": [
           {
            "automargin": true,
            "type": "pie"
           }
          ],
          "scatter": [
           {
            "fillpattern": {
             "fillmode": "overlay",
             "size": 10,
             "solidity": 0.2
            },
            "type": "scatter"
           }
          ],
          "scatter3d": [
           {
            "line": {
             "colorbar": {
              "outlinewidth": 0,
              "ticks": ""
             }
            },
            "marker": {
             "colorbar": {
              "outlinewidth": 0,
              "ticks": ""
             }
            },
            "type": "scatter3d"
           }
          ],
          "scattercarpet": [
           {
            "marker": {
             "colorbar": {
              "outlinewidth": 0,
              "ticks": ""
             }
            },
            "type": "scattercarpet"
           }
          ],
          "scattergeo": [
           {
            "marker": {
             "colorbar": {
              "outlinewidth": 0,
              "ticks": ""
             }
            },
            "type": "scattergeo"
           }
          ],
          "scattergl": [
           {
            "marker": {
             "colorbar": {
              "outlinewidth": 0,
              "ticks": ""
             }
            },
            "type": "scattergl"
           }
          ],
          "scattermapbox": [
           {
            "marker": {
             "colorbar": {
              "outlinewidth": 0,
              "ticks": ""
             }
            },
            "type": "scattermapbox"
           }
          ],
          "scatterpolar": [
           {
            "marker": {
             "colorbar": {
              "outlinewidth": 0,
              "ticks": ""
             }
            },
            "type": "scatterpolar"
           }
          ],
          "scatterpolargl": [
           {
            "marker": {
             "colorbar": {
              "outlinewidth": 0,
              "ticks": ""
             }
            },
            "type": "scatterpolargl"
           }
          ],
          "scatterternary": [
           {
            "marker": {
             "colorbar": {
              "outlinewidth": 0,
              "ticks": ""
             }
            },
            "type": "scatterternary"
           }
          ],
          "surface": [
           {
            "colorbar": {
             "outlinewidth": 0,
             "ticks": ""
            },
            "colorscale": [
             [
              0,
              "#0d0887"
             ],
             [
              0.1111111111111111,
              "#46039f"
             ],
             [
              0.2222222222222222,
              "#7201a8"
             ],
             [
              0.3333333333333333,
              "#9c179e"
             ],
             [
              0.4444444444444444,
              "#bd3786"
             ],
             [
              0.5555555555555556,
              "#d8576b"
             ],
             [
              0.6666666666666666,
              "#ed7953"
             ],
             [
              0.7777777777777778,
              "#fb9f3a"
             ],
             [
              0.8888888888888888,
              "#fdca26"
             ],
             [
              1,
              "#f0f921"
             ]
            ],
            "type": "surface"
           }
          ],
          "table": [
           {
            "cells": {
             "fill": {
              "color": "#EBF0F8"
             },
             "line": {
              "color": "white"
             }
            },
            "header": {
             "fill": {
              "color": "#C8D4E3"
             },
             "line": {
              "color": "white"
             }
            },
            "type": "table"
           }
          ]
         },
         "layout": {
          "annotationdefaults": {
           "arrowcolor": "#2a3f5f",
           "arrowhead": 0,
           "arrowwidth": 1
          },
          "autotypenumbers": "strict",
          "coloraxis": {
           "colorbar": {
            "outlinewidth": 0,
            "ticks": ""
           }
          },
          "colorscale": {
           "diverging": [
            [
             0,
             "#8e0152"
            ],
            [
             0.1,
             "#c51b7d"
            ],
            [
             0.2,
             "#de77ae"
            ],
            [
             0.3,
             "#f1b6da"
            ],
            [
             0.4,
             "#fde0ef"
            ],
            [
             0.5,
             "#f7f7f7"
            ],
            [
             0.6,
             "#e6f5d0"
            ],
            [
             0.7,
             "#b8e186"
            ],
            [
             0.8,
             "#7fbc41"
            ],
            [
             0.9,
             "#4d9221"
            ],
            [
             1,
             "#276419"
            ]
           ],
           "sequential": [
            [
             0,
             "#0d0887"
            ],
            [
             0.1111111111111111,
             "#46039f"
            ],
            [
             0.2222222222222222,
             "#7201a8"
            ],
            [
             0.3333333333333333,
             "#9c179e"
            ],
            [
             0.4444444444444444,
             "#bd3786"
            ],
            [
             0.5555555555555556,
             "#d8576b"
            ],
            [
             0.6666666666666666,
             "#ed7953"
            ],
            [
             0.7777777777777778,
             "#fb9f3a"
            ],
            [
             0.8888888888888888,
             "#fdca26"
            ],
            [
             1,
             "#f0f921"
            ]
           ],
           "sequentialminus": [
            [
             0,
             "#0d0887"
            ],
            [
             0.1111111111111111,
             "#46039f"
            ],
            [
             0.2222222222222222,
             "#7201a8"
            ],
            [
             0.3333333333333333,
             "#9c179e"
            ],
            [
             0.4444444444444444,
             "#bd3786"
            ],
            [
             0.5555555555555556,
             "#d8576b"
            ],
            [
             0.6666666666666666,
             "#ed7953"
            ],
            [
             0.7777777777777778,
             "#fb9f3a"
            ],
            [
             0.8888888888888888,
             "#fdca26"
            ],
            [
             1,
             "#f0f921"
            ]
           ]
          },
          "colorway": [
           "#636efa",
           "#EF553B",
           "#00cc96",
           "#ab63fa",
           "#FFA15A",
           "#19d3f3",
           "#FF6692",
           "#B6E880",
           "#FF97FF",
           "#FECB52"
          ],
          "font": {
           "color": "#2a3f5f"
          },
          "geo": {
           "bgcolor": "white",
           "lakecolor": "white",
           "landcolor": "#E5ECF6",
           "showlakes": true,
           "showland": true,
           "subunitcolor": "white"
          },
          "hoverlabel": {
           "align": "left"
          },
          "hovermode": "closest",
          "mapbox": {
           "style": "light"
          },
          "paper_bgcolor": "white",
          "plot_bgcolor": "#E5ECF6",
          "polar": {
           "angularaxis": {
            "gridcolor": "white",
            "linecolor": "white",
            "ticks": ""
           },
           "bgcolor": "#E5ECF6",
           "radialaxis": {
            "gridcolor": "white",
            "linecolor": "white",
            "ticks": ""
           }
          },
          "scene": {
           "xaxis": {
            "backgroundcolor": "#E5ECF6",
            "gridcolor": "white",
            "gridwidth": 2,
            "linecolor": "white",
            "showbackground": true,
            "ticks": "",
            "zerolinecolor": "white"
           },
           "yaxis": {
            "backgroundcolor": "#E5ECF6",
            "gridcolor": "white",
            "gridwidth": 2,
            "linecolor": "white",
            "showbackground": true,
            "ticks": "",
            "zerolinecolor": "white"
           },
           "zaxis": {
            "backgroundcolor": "#E5ECF6",
            "gridcolor": "white",
            "gridwidth": 2,
            "linecolor": "white",
            "showbackground": true,
            "ticks": "",
            "zerolinecolor": "white"
           }
          },
          "shapedefaults": {
           "line": {
            "color": "#2a3f5f"
           }
          },
          "ternary": {
           "aaxis": {
            "gridcolor": "white",
            "linecolor": "white",
            "ticks": ""
           },
           "baxis": {
            "gridcolor": "white",
            "linecolor": "white",
            "ticks": ""
           },
           "bgcolor": "#E5ECF6",
           "caxis": {
            "gridcolor": "white",
            "linecolor": "white",
            "ticks": ""
           }
          },
          "title": {
           "x": 0.05
          },
          "xaxis": {
           "automargin": true,
           "gridcolor": "white",
           "linecolor": "white",
           "ticks": "",
           "title": {
            "standoff": 15
           },
           "zerolinecolor": "white",
           "zerolinewidth": 2
          },
          "yaxis": {
           "automargin": true,
           "gridcolor": "white",
           "linecolor": "white",
           "ticks": "",
           "title": {
            "standoff": 15
           },
           "zerolinecolor": "white",
           "zerolinewidth": 2
          }
         }
        },
        "title": {
         "text": "ROC-AUC Curve"
        },
        "xaxis": {
         "showgrid": true,
         "title": {
          "text": "False Positive Rate"
         }
        },
        "yaxis": {
         "showgrid": true,
         "title": {
          "text": "True Positive Rate"
         }
        }
       }
      }
     },
     "metadata": {},
     "output_type": "display_data"
    },
    {
     "data": {
      "application/vnd.plotly.v1+json": {
       "config": {
        "plotlyServerURL": "https://plot.ly"
       },
       "data": [
        {
         "legendgroup": "Дефолт",
         "marker": {
          "color": "rgb(31, 119, 180)"
         },
         "mode": "lines",
         "name": "Дефолт",
         "showlegend": true,
         "type": "scatter",
         "x": [
          0.0021,
          0.0021224,
          0.0021447999999999997,
          0.0021671999999999998,
          0.0021896,
          0.002212,
          0.0022343999999999997,
          0.0022567999999999998,
          0.0022792,
          0.0023016,
          0.0023239999999999997,
          0.0023464,
          0.0023688,
          0.0023912,
          0.0024135999999999997,
          0.002436,
          0.0024584,
          0.0024808,
          0.0025031999999999997,
          0.0025256,
          0.002548,
          0.0025704,
          0.0025928,
          0.0026152,
          0.0026376,
          0.00266,
          0.0026823999999999997,
          0.0027048,
          0.0027272,
          0.0027495999999999996,
          0.002772,
          0.0027944,
          0.0028168,
          0.0028392,
          0.0028615999999999997,
          0.002884,
          0.0029064,
          0.0029287999999999996,
          0.0029511999999999997,
          0.0029736,
          0.002996,
          0.0030184,
          0.0030407999999999998,
          0.0030632,
          0.0030856,
          0.0031079999999999997,
          0.0031303999999999998,
          0.0031528,
          0.0031751999999999996,
          0.0031976,
          0.0032199999999999998,
          0.0032424,
          0.0032648,
          0.0032871999999999997,
          0.0033095999999999998,
          0.003332,
          0.0033543999999999996,
          0.0033768,
          0.0033992,
          0.0034215999999999995,
          0.003444,
          0.0034663999999999997,
          0.0034888,
          0.0035112,
          0.0035335999999999996,
          0.003556,
          0.0035784,
          0.0036007999999999995,
          0.0036232,
          0.0036455999999999997,
          0.0036680000000000003,
          0.0036904,
          0.0037127999999999996,
          0.0037352,
          0.0037576,
          0.0037799999999999995,
          0.0038024,
          0.0038247999999999997,
          0.0038472000000000003,
          0.0038696,
          0.0038919999999999996,
          0.0039144,
          0.0039368,
          0.0039591999999999995,
          0.0039816,
          0.004004,
          0.004026399999999999,
          0.0040488,
          0.0040712000000000005,
          0.004093599999999999,
          0.004116,
          0.0041383999999999995,
          0.004160799999999999,
          0.0041832,
          0.0042056,
          0.004228,
          0.0042504,
          0.0042728,
          0.0042952,
          0.0043175999999999996,
          0.00434,
          0.0043624,
          0.0043847999999999995,
          0.0044072,
          0.0044296000000000006,
          0.004451999999999999,
          0.0044744,
          0.0044968,
          0.004519199999999999,
          0.0045416,
          0.004564,
          0.0045864,
          0.0046088,
          0.0046312,
          0.0046536,
          0.004676,
          0.0046984,
          0.0047208,
          0.0047431999999999995,
          0.0047656,
          0.004788000000000001,
          0.004810399999999999,
          0.0048328,
          0.0048552,
          0.004877599999999999,
          0.0049,
          0.0049224,
          0.004944799999999999,
          0.0049672,
          0.0049896,
          0.005012,
          0.0050344,
          0.0050568,
          0.0050792,
          0.0051015999999999995,
          0.005124,
          0.0051464,
          0.0051687999999999994,
          0.0051912,
          0.0052136,
          0.005236,
          0.0052584,
          0.0052808,
          0.005303199999999999,
          0.0053256,
          0.0053479999999999995,
          0.0053704,
          0.0053928,
          0.0054152,
          0.0054376,
          0.00546,
          0.0054824,
          0.0055048,
          0.0055271999999999995,
          0.0055496,
          0.005572,
          0.0055944,
          0.0056168,
          0.0056392000000000005,
          0.005661599999999999,
          0.005684,
          0.0057063999999999995,
          0.0057288,
          0.0057512,
          0.0057736,
          0.005796,
          0.0058184,
          0.0058408,
          0.0058632,
          0.0058855999999999995,
          0.005908,
          0.0059304,
          0.005952799999999999,
          0.0059752,
          0.0059976000000000005,
          0.006019999999999999,
          0.0060424,
          0.0060648,
          0.006087199999999999,
          0.0061096,
          0.006132,
          0.006154400000000001,
          0.0061768,
          0.0061992,
          0.006221599999999999,
          0.0062439999999999996,
          0.0062664,
          0.006288799999999999,
          0.0063111999999999994,
          0.0063336,
          0.0063560000000000005,
          0.006378399999999999,
          0.0064008,
          0.0064232000000000004,
          0.006445599999999999,
          0.006468,
          0.0064904,
          0.006512799999999999,
          0.0065352,
          0.0065576,
          0.006579999999999999,
          0.0066024,
          0.0066248,
          0.006647200000000001,
          0.0066695999999999995,
          0.006692,
          0.006714399999999999,
          0.006736799999999999,
          0.0067592,
          0.006781599999999999,
          0.006803999999999999,
          0.0068264,
          0.0068488,
          0.006871200000000001,
          0.0068936,
          0.006916,
          0.006938399999999999,
          0.0069608,
          0.0069832,
          0.007005599999999999,
          0.0070279999999999995,
          0.0070504,
          0.007072800000000001,
          0.007095199999999999,
          0.0071176,
          0.0071400000000000005,
          0.007162399999999999,
          0.0071848,
          0.0072072,
          0.007229599999999999,
          0.007252,
          0.0072744,
          0.007296799999999999,
          0.0073192,
          0.0073416,
          0.007364000000000001,
          0.0073863999999999996,
          0.0074088,
          0.007431200000000001,
          0.0074535999999999995,
          0.007476,
          0.007498399999999999,
          0.007520799999999999,
          0.0075432,
          0.0075656000000000004,
          0.007587999999999999,
          0.0076104,
          0.0076328,
          0.007655199999999999,
          0.0076776,
          0.0077,
          0.007722399999999999,
          0.0077448,
          0.0077672,
          0.007789599999999999,
          0.0078119999999999995,
          0.0078344,
          0.0078568,
          0.0078792,
          0.0079016,
          0.007924,
          0.0079464,
          0.0079688,
          0.007991199999999999,
          0.0080136,
          0.008036,
          0.0080584,
          0.0080808,
          0.0081032,
          0.0081256,
          0.008148,
          0.0081704,
          0.0081928,
          0.008215199999999999,
          0.0082376,
          0.00826,
          0.0082824,
          0.0083048,
          0.0083272,
          0.0083496,
          0.008372000000000001,
          0.0083944,
          0.0084168,
          0.0084392,
          0.0084616,
          0.008484,
          0.008506399999999999,
          0.0085288,
          0.0085512,
          0.0085736,
          0.008596,
          0.0086184,
          0.0086408,
          0.0086632,
          0.0086856,
          0.008707999999999999,
          0.0087304,
          0.0087528,
          0.0087752,
          0.0087976,
          0.00882,
          0.0088424,
          0.0088648,
          0.0088872,
          0.0089096,
          0.008931999999999999,
          0.0089544,
          0.0089768,
          0.008999199999999999,
          0.0090216,
          0.009044,
          0.0090664,
          0.009088800000000001,
          0.0091112,
          0.0091336,
          0.009156,
          0.0091784,
          0.009200799999999999,
          0.009223199999999999,
          0.0092456,
          0.009268,
          0.0092904,
          0.0093128,
          0.0093352,
          0.0093576,
          0.00938,
          0.0094024,
          0.009424799999999999,
          0.0094472,
          0.0094696,
          0.009492,
          0.0095144,
          0.0095368,
          0.0095592,
          0.009581600000000001,
          0.009604,
          0.0096264,
          0.009648799999999999,
          0.0096712,
          0.0096936,
          0.009715999999999999,
          0.0097384,
          0.0097608,
          0.0097832,
          0.0098056,
          0.009828,
          0.0098504,
          0.0098728,
          0.0098952,
          0.009917599999999999,
          0.00994,
          0.0099624,
          0.0099848,
          0.010007199999999999,
          0.0100296,
          0.010052,
          0.010074399999999999,
          0.0100968,
          0.010119199999999998,
          0.0101416,
          0.010164,
          0.010186399999999998,
          0.0102088,
          0.0102312,
          0.010253599999999998,
          0.010276,
          0.0102984,
          0.0103208,
          0.010343199999999999,
          0.010365599999999999,
          0.010388,
          0.010410399999999998,
          0.0104328,
          0.0104552,
          0.010477599999999998,
          0.0105,
          0.0105224,
          0.0105448,
          0.010567199999999999,
          0.0105896,
          0.010612,
          0.010634399999999999,
          0.0106568,
          0.0106792,
          0.010701599999999999,
          0.010724,
          0.0107464,
          0.010768799999999999,
          0.010791199999999999,
          0.0108136,
          0.010836,
          0.010858399999999999,
          0.0108808,
          0.0109032,
          0.010925599999999999,
          0.010948,
          0.0109704,
          0.010992799999999999,
          0.0110152,
          0.0110376,
          0.011059999999999999,
          0.0110824,
          0.0111048,
          0.0111272,
          0.011149599999999999,
          0.011171999999999998,
          0.0111944,
          0.011216799999999999,
          0.0112392,
          0.0112616,
          0.011283999999999999,
          0.0113064,
          0.011328799999999998,
          0.0113512,
          0.0113736,
          0.011395999999999998,
          0.0114184,
          0.0114408,
          0.011463199999999998,
          0.0114856,
          0.011508,
          0.0115304,
          0.011552799999999998,
          0.011575199999999999,
          0.0115976,
          0.011619999999999998,
          0.0116424,
          0.0116648,
          0.011687199999999998,
          0.0117096,
          0.011732,
          0.0117544,
          0.011776799999999999,
          0.0117992,
          0.0118216,
          0.011843999999999999,
          0.0118664,
          0.0118888,
          0.011911199999999999,
          0.0119336,
          0.011956,
          0.011978399999999998,
          0.012000799999999999,
          0.0120232,
          0.0120456,
          0.012067999999999999,
          0.0120904,
          0.0121128,
          0.012135199999999999,
          0.012157600000000001,
          0.01218,
          0.012202399999999999,
          0.0122248,
          0.0122472,
          0.012269599999999999,
          0.012291999999999999,
          0.0123144,
          0.0123368,
          0.012359199999999999,
          0.012381599999999998,
          0.012404,
          0.012426399999999999,
          0.0124488,
          0.0124712,
          0.012493599999999999,
          0.012516,
          0.0125384,
          0.0125608,
          0.0125832,
          0.012605599999999998,
          0.012628,
          0.0126504,
          0.012672799999999998,
          0.0126952,
          0.012717599999999999,
          0.01274,
          0.0127624,
          0.012784799999999999,
          0.0128072,
          0.012829599999999998,
          0.012852,
          0.0128744,
          0.012896799999999998,
          0.0129192,
          0.0129416,
          0.012964,
          0.0129864,
          0.0130088,
          0.0130312,
          0.013053599999999999,
          0.013075999999999999,
          0.0130984,
          0.013120799999999998,
          0.0131432,
          0.0131656,
          0.013187999999999998,
          0.013210399999999999,
          0.0132328,
          0.0132552,
          0.013277599999999999
         ],
         "xaxis": "x",
         "y": [
          61.90570302943349,
          62.42898213157612,
          62.95044295010504,
          63.46997284359709,
          63.9874591541651,
          64.50278926126498,
          65.01585063598493,
          65.52653089578405,
          66.03471785964571,
          66.54029960361166,
          67.04316451666035,
          67.54320135689451,
          68.04029930800057,
          68.53434803594268,
          69.02523774585391,
          69.51285923908567,
          69.9971039703771,
          70.47786410510447,
          70.95503257657116,
          71.42850314329839,
          71.89817044627506,
          72.36393006612735,
          72.82567858016546,
          73.28331361926729,
          73.73673392455649,
          74.18583940383378,
          74.63053118771899,
          75.07071168546217,
          75.50628464038165,
          75.93715518488646,
          76.36322989504137,
          76.78441684463237,
          77.20062565869064,
          77.61176756643277,
          78.01775545357607,
          78.41850391398737,
          78.81392930062341,
          79.20394977572315,
          79.58848536021044,
          79.96745798226681,
          80.34079152503548,
          80.70841187341622,
          81.07024695991313,
          81.42622680949614,
          81.7762835834396,
          82.12035162209973,
          82.45836748659558,
          82.79026999935684,
          83.11600028350414,
          83.43550180102757,
          83.74872038972934,
          84.0556042988991,
          84.35610422368914,
          84.65017333815958,
          84.93776732696297,
          85.2188444156402,
          85.49336539949904,
          85.76129367104946,
          86.02259524596892,
          86.27723878757426,
          86.52519562977531,
          86.76643979848923,
          87.00094803149338,
          87.22869979669719,
          87.44967730881447,
          87.6638655444182,
          87.87125225536207,
          88.07182798055337,
          88.26558605606432,
          88.45252262356836,
          88.63263663709175,
          88.80592986807008,
          88.97240690870137,
          89.13207517358948,
          89.2849448996714,
          89.43102914442575,
          89.5703437823575,
          89.70290749976043,
          89.82874178775468,
          89.9478709336027,
          90.0603220103058,
          90.16612486448534,
          90.26531210255467,
          90.35791907518885,
          90.44398386010008,
          90.52354724312946,
          90.59665269766532,
          90.66334636240163,
          90.7236770174497,
          90.77769605881844,
          90.82545747128025,
          90.86701779963944,
          90.90243611842341,
          90.931774000016,
          90.95509548125466,
          90.9724670285155,
          90.98395750130831,
          90.98963811440838,
          90.98958239855024,
          90.9838661597121,
          90.97256743701755,
          90.95576645928634,
          90.93354560026339,
          90.90598933255737,
          90.87318418032321,
          90.83521867071975,
          90.79218328417886,
          90.74417040351963,
          90.69127426194541,
          90.6335908899587,
          90.57121806123298,
          90.5042552374793,
          90.43280351234591,
          90.35696555439189,
          90.27684554917364,
          90.19254914048616,
          90.10418337079923,
          90.01185662093114,
          89.91567854900178,
          89.81576002870783,
          89.712213086962,
          89.60515084094149,
          89.49468743458685,
          89.3809379745968,
          89.26401846596133,
          89.14404574707874,
          89.02113742449903,
          88.89541180733904,
          88.76698784141279,
          88.63598504312166,
          88.50252343314811,
          88.36672346999717,
          88.22870598342918,
          88.08859210782806,
          87.94650321554785,
          87.80256085028118,
          87.65688666049206,
          87.50960233295628,
          87.36082952645096,
          87.21068980563494,
          87.05930457516216,
          86.90679501406808,
          86.75328201046993,
          86.59888609662065,
          86.44372738435551,
          86.28792550097072,
          86.13159952557137,
          85.97486792592697,
          85.81784849587056,
          85.66065829327826,
          85.50341357866418,
          85.34622975442527,
          85.18922130477053,
          85.03250173636724,
          84.87618351973664,
          84.72037803143057,
          84.56519549702007,
          84.41074493492515,
          84.25713410111533,
          84.1044694347088,
          83.95285600449733,
          83.80239745642363,
          83.65319596203611,
          83.50535216794616,
          83.3589651463111,
          83.21413234636564,
          83.07094954702391,
          82.92951081057248,
          82.78990843747468,
          82.65223292230506,
          82.51657291083188,
          82.38301515826544,
          82.25164448868748,
          82.1225437556781,
          81.99579380415341,
          81.87147343342869,
          81.74965936151827,
          81.6304261906851,
          81.51384637424992,
          81.39999018467032,
          81.28892568289882,
          81.18071868902797,
          81.07543275422992,
          80.97312913399696,
          80.87386676268898,
          80.7777022293922,
          80.68468975509386,
          80.59488117117593,
          80.50832589923024,
          80.42507093219733,
          80.34516081682958,
          80.2686376374793,
          80.19554100121142,
          80.12590802423976,
          80.05977331968502,
          79.99716898665247,
          79.93812460062637,
          79.88266720517709,
          79.8308213049775,
          79.78260886012335,
          79.73804928175238,
          79.69715942895685,
          79.65995360698238,
          79.62644356670695,
          79.59663850539194,
          79.57054506869827,
          79.54816735395862,
          79.52950691469749,
          79.51456276638955,
          79.50333139344713,
          79.49580675742675,
          79.49198030644419,
          79.49184098578786,
          79.49537524971892,
          79.50256707444734,
          79.51339797227173,
          79.52784700687133,
          79.54589080973777,
          79.56750359773386,
          79.59265719176705,
          79.62132103656384,
          79.65346222153237,
          79.6890455026994,
          79.7280333257077,
          79.77038584986012,
          79.81606097319593,
          79.86501435858504,
          79.91719946082519,
          79.9725675547279,
          80.03106776417721,
          80.09264709214682,
          80.15725045165986,
          80.22482069767541,
          80.29529865988665,
          80.36862317641426,
          80.44473112837869,
          80.52355747533598,
          80.6050352915595,
          80.68909580315186,
          80.7756684259696,
          80.86468080434415,
          80.9560588505816,
          81.04972678522421,
          81.14560717805558,
          81.24362098983293,
          81.3436876147272,
          81.44572492345416,
          81.54964930707754,
          81.65537572146607,
          81.76281773238564,
          81.87188756120796,
          81.98249613121645,
          82.09455311449024,
          82.20796697934675,
          82.32264503832349,
          82.43849349667849,
          82.55541750138997,
          82.6733211906345,
          82.7921077437231,
          82.91167943147438,
          83.03193766700399,
          83.15278305690855,
          83.27411545282276,
          83.39583400332785,
          83.51783720618931,
          83.64002296090126,
          83.76228862151511,
          83.8845310497298,
          84.00664666821982,
          84.12853151417829,
          84.25008129305104,
          84.37119143243767,
          84.49175713613573,
          84.61167343830313,
          84.73083525771443,
          84.84913745208532,
          84.96647487244098,
          85.08274241750202,
          85.19783508806249,
          85.31164804133392,
          85.42407664522932,
          85.53501653256012,
          85.64436365512015,
          85.7520143376288,
          85.85786533150704,
          85.96181386845856,
          86.06375771382824,
          86.16359521971123,
          86.26122537778348,
          86.35654787182679,
          86.4494631299199,
          86.53987237626697,
          86.62767768263566,
          86.71278201937633,
          86.79508930599339,
          86.87450446124039,
          86.95093345271104,
          87.02428334589615,
          87.09446235267907,
          87.1613798792407,
          87.22494657334506,
          87.28507437097802,
          87.34167654230968,
          87.39466773695318,
          87.44396402849098,
          87.48948295824165,
          87.53114357823836,
          87.56886649339266,
          87.60257390281555,
          87.63218964026903,
          87.65763921372184,
          87.67884984398243,
          87.6957505023838,
          87.708271947494,
          87.7163467608277,
          87.71990938153363,
          87.71889614003375,
          87.71324529059065,
          87.7028970427794,
          87.68779359184147,
          87.66787914789897,
          87.64309996400684,
          87.61340436302285,
          87.57874276327522,
          87.5390677030077,
          87.49433386358427,
          87.44449809143477,
          87.38951941872452,
          87.32935908273137,
          87.26398054391498,
          87.19334950266268,
          87.11743391469936,
          87.03620400514723,
          86.94963228122414,
          86.85769354356911,
          86.76036489618512,
          86.65762575498987,
          86.54945785496642,
          86.43584525590708,
          86.31677434674363,
          86.19223384846008,
          86.06221481558276,
          85.92671063624638,
          85.78571703083313,
          85.63923204918518,
          85.48725606639051,
          85.32979177714437,
          85.16684418868871,
          84.99842061233404,
          84.82453065356862,
          84.64518620076144,
          84.46040141246677,
          84.27019270333844,
          84.07457872866422,
          83.87358036753128,
          83.6672207046345,
          83.45552501074202,
          83.238520721831,
          83.01623741691114,
          82.78870679455136,
          82.55596264812829,
          82.31804083981551,
          82.07497927333374,
          81.8268178654836,
          81.57359851648266,
          81.31536507913083,
          81.05216332682863,
          80.78404092047319,
          80.5110473742594,
          80.23323402041304,
          79.95065397288478,
          79.66336209003413,
          79.37141493633393,
          79.0748707431266,
          78.77378936846355,
          78.46823225606165,
          78.15826239340979,
          77.84394426905948,
          77.52534382913576,
          77.20252843310323,
          76.87556680882415,
          76.54452900694552,
          76.20948635465267,
          75.87051140882807,
          75.52767790865335,
          75.18106072769393,
          74.83073582550642,
          74.47678019880756,
          74.11927183224607,
          73.7582896488174,
          73.39391345996235,
          73.02622391539073,
          72.65530245267088,
          72.28123124662697,
          71.90409315858493,
          71.52397168550853,
          71.14095090906771,
          70.75511544467928,
          70.36655039056238,
          69.97534127684953,
          69.58157401479374,
          69.185334846113,
          68.78671029251234,
          68.38578710542343,
          67.98265221600205,
          67.57739268542167,
          67.17009565550347,
          66.76084829972044,
          66.34973777461302,
          65.9368511716549,
          65.52227546960462,
          65.10609748737936,
          64.68840383748693,
          64.2692808800494,
          63.84881467745399,
          63.42709094966268,
          63.00419503021416,
          62.580211822949295,
          62.15522575948995,
          61.72932075750209,
          61.30258017977142,
          60.87508679411836,
          60.446922734181314,
          60.018169461091574,
          59.588907726066694,
          59.15921753394437,
          58.72917810768029,
          58.298867853831524,
          57.868364329044866,
          57.43774420757018,
          57.00708324981694,
          56.576456271969526,
          56.14593711667881,
          55.71559862484266,
          55.285512608490315,
          54.855749824781356,
          54.426379951131054,
          53.99747156147122,
          53.56909210365524,
          53.141307878014175,
          52.714184017070686,
          52.287784466414145,
          51.86217196674189,
          51.43740803706824,
          51.01355295910231,
          50.59066576279476,
          50.16880421305207,
          49.748024797616274,
          49.32838271610593,
          48.90993187021363,
          48.492724855055165,
          48.076812951661346,
          47.6622461206065,
          47.24907299676286,
          46.837340885171216,
          46.4270957580164,
          46.018382252695375,
          45.61124367096425,
          45.20572197915022,
          44.80185780941291,
          44.399690462039274,
          43.999257908754785,
          43.600596797032395,
          43.20374245538192,
          42.80872889959875,
          42.41558883995228,
          42.02435368929313,
          41.63505357205686,
          41.24771733414186,
          40.86237255363851,
          40.4790455523856,
          40.097761408330186,
          39.71854396866499,
          39.34141586371933,
          38.96639852157703,
          38.593512183394814,
          38.2227759193953,
          37.85420764550703,
          37.487824140624284,
          37.123641064459484,
          36.76167297595958,
          36.401933352259334,
          36.044434608141955,
          35.68918811598021,
          35.336204226128274,
          34.98549228773612,
          34.6370606699584,
          34.29091678352831,
          33.94706710266837,
          33.60551718730979,
          33.266271705591365,
          32.92933445661048,
          32.594708393397205,
          32.262395646084244,
          31.932397545245088,
          31.604714645372162,
          31.27934674846879,
          30.95629292772778,
          30.63555155126985,
          30.317120305916404
         ],
         "yaxis": "y"
        },
        {
         "legendgroup": "Хороший",
         "marker": {
          "color": "rgb(255, 127, 14)"
         },
         "mode": "lines",
         "name": "Хороший",
         "showlegend": true,
         "type": "scatter",
         "x": [
          0.0008,
          0.0008942,
          0.0009884,
          0.0010826,
          0.0011768,
          0.001271,
          0.0013652,
          0.0014594,
          0.0015536,
          0.0016478,
          0.001742,
          0.0018362,
          0.0019304,
          0.0020246,
          0.0021188,
          0.0022129999999999997,
          0.0023071999999999997,
          0.0024014,
          0.0024955999999999997,
          0.0025897999999999997,
          0.0026839999999999998,
          0.0027781999999999998,
          0.0028723999999999998,
          0.0029666,
          0.0030608,
          0.003155,
          0.0032492,
          0.0033433999999999994,
          0.0034376,
          0.0035318,
          0.0036259999999999994,
          0.0037202,
          0.0038143999999999995,
          0.0039086,
          0.0040028,
          0.004097,
          0.0041912,
          0.0042854,
          0.0043796,
          0.0044738,
          0.004568,
          0.0046622,
          0.0047564,
          0.0048506,
          0.0049448,
          0.005039,
          0.0051332,
          0.0052274,
          0.0053216,
          0.005415799999999999,
          0.00551,
          0.0056042,
          0.0056984,
          0.0057926,
          0.005886799999999999,
          0.005980999999999999,
          0.0060752,
          0.0061694,
          0.0062636,
          0.006357799999999999,
          0.006451999999999999,
          0.006546199999999999,
          0.0066404,
          0.0067346,
          0.0068287999999999995,
          0.0069229999999999995,
          0.0070171999999999995,
          0.0071114,
          0.0072056,
          0.0072997999999999995,
          0.0073939999999999995,
          0.0074881999999999995,
          0.0075823999999999996,
          0.0076766000000000004,
          0.0077708000000000005,
          0.007864999999999999,
          0.0079592,
          0.008053399999999999,
          0.0081476,
          0.0082418,
          0.008336,
          0.008430199999999999,
          0.0085244,
          0.008618599999999999,
          0.0087128,
          0.008807,
          0.0089012,
          0.008995399999999999,
          0.0090896,
          0.009183799999999999,
          0.009278,
          0.009372199999999999,
          0.0094664,
          0.009560599999999999,
          0.0096548,
          0.009749,
          0.0098432,
          0.0099374,
          0.010031599999999998,
          0.010125799999999999,
          0.01022,
          0.010314199999999999,
          0.0104084,
          0.010502599999999999,
          0.0105968,
          0.010691,
          0.0107852,
          0.010879400000000001,
          0.010973599999999998,
          0.0110678,
          0.011161999999999998,
          0.0112562,
          0.0113504,
          0.0114446,
          0.0115388,
          0.011633,
          0.0117272,
          0.011821400000000001,
          0.011915599999999998,
          0.0120098,
          0.012103999999999998,
          0.0121982,
          0.012292399999999998,
          0.0123866,
          0.0124808,
          0.012575,
          0.0126692,
          0.0127634,
          0.012857599999999999,
          0.0129518,
          0.013045999999999999,
          0.0131402,
          0.013234399999999999,
          0.0133286,
          0.0134228,
          0.013517,
          0.0136112,
          0.0137054,
          0.013799599999999999,
          0.013893799999999998,
          0.013987999999999999,
          0.0140822,
          0.014176399999999999,
          0.0142706,
          0.014364799999999999,
          0.014459,
          0.0145532,
          0.0146474,
          0.0147416,
          0.014835799999999998,
          0.014929999999999999,
          0.015024199999999998,
          0.015118399999999999,
          0.0152126,
          0.015306799999999999,
          0.015401,
          0.015495199999999999,
          0.0155894,
          0.0156836,
          0.015777799999999998,
          0.015871999999999997,
          0.015966199999999996,
          0.0160604,
          0.016154599999999998,
          0.016248799999999997,
          0.016343,
          0.016437199999999996,
          0.016531399999999998,
          0.016625599999999997,
          0.016719799999999996,
          0.016814,
          0.016908199999999998,
          0.017002399999999997,
          0.017096599999999997,
          0.017190799999999996,
          0.017285,
          0.017379199999999997,
          0.017473399999999997,
          0.017567599999999996,
          0.0176618,
          0.017755999999999997,
          0.0178502,
          0.017944399999999996,
          0.0180386,
          0.018132799999999998,
          0.018226999999999997,
          0.018321199999999996,
          0.018415399999999995,
          0.018509599999999998,
          0.018603799999999997,
          0.018698,
          0.018792199999999995,
          0.018886399999999998,
          0.018980599999999997,
          0.0190748,
          0.019169,
          0.019263199999999994,
          0.019357399999999997,
          0.019451599999999996,
          0.0195458,
          0.019639999999999998,
          0.019734199999999997,
          0.019828399999999996,
          0.0199226,
          0.020016799999999998,
          0.020110999999999997,
          0.020205199999999996,
          0.020299399999999995,
          0.020393599999999998,
          0.020487799999999997,
          0.020582,
          0.020676199999999995,
          0.020770399999999998,
          0.020864599999999997,
          0.0209588,
          0.021052999999999995,
          0.021147199999999994,
          0.021241399999999997,
          0.021335599999999996,
          0.0214298,
          0.021523999999999995,
          0.021618199999999997,
          0.021712399999999996,
          0.0218066,
          0.021900799999999998,
          0.021994999999999994,
          0.022089199999999996,
          0.022183399999999995,
          0.022277599999999998,
          0.022371799999999997,
          0.022465999999999996,
          0.022560199999999996,
          0.022654399999999998,
          0.022748599999999997,
          0.0228428,
          0.022936999999999996,
          0.023031199999999995,
          0.023125399999999997,
          0.023219599999999996,
          0.0233138,
          0.023407999999999995,
          0.023502199999999997,
          0.023596399999999997,
          0.0236906,
          0.023784799999999995,
          0.023878999999999994,
          0.023973199999999997,
          0.024067399999999996,
          0.0241616,
          0.024255799999999994,
          0.024349999999999997,
          0.024444199999999996,
          0.0245384,
          0.024632599999999998,
          0.024726799999999997,
          0.024820999999999996,
          0.024915199999999995,
          0.025009399999999998,
          0.025103599999999997,
          0.025197799999999996,
          0.025291999999999995,
          0.025386199999999998,
          0.025480399999999997,
          0.0255746,
          0.025668799999999995,
          0.025762999999999998,
          0.025857199999999997,
          0.025951399999999996,
          0.0260456,
          0.026139799999999994,
          0.026233999999999997,
          0.026328199999999996,
          0.0264224,
          0.026516599999999994,
          0.026610799999999997,
          0.026704999999999996,
          0.026799199999999995,
          0.026893399999999998,
          0.026987599999999994,
          0.027081799999999996,
          0.027175999999999995,
          0.027270199999999998,
          0.027364399999999997,
          0.027458599999999996,
          0.027552799999999995,
          0.027646999999999998,
          0.027741199999999997,
          0.027835399999999996,
          0.027929599999999995,
          0.028023799999999995,
          0.028117999999999997,
          0.028212199999999996,
          0.0283064,
          0.028400599999999995,
          0.028494799999999997,
          0.028588999999999996,
          0.0286832,
          0.028777399999999998,
          0.028871599999999994,
          0.028965799999999996,
          0.029059999999999996,
          0.029154199999999998,
          0.029248399999999994,
          0.029342599999999996,
          0.029436799999999996,
          0.029530999999999998,
          0.029625199999999997,
          0.029719399999999993,
          0.029813599999999996,
          0.029907799999999995,
          0.030001999999999997,
          0.030096199999999997,
          0.030190399999999996,
          0.030284599999999995,
          0.030378799999999997,
          0.030472999999999997,
          0.0305672,
          0.030661399999999995,
          0.030755599999999994,
          0.030849799999999997,
          0.030943999999999996,
          0.0310382,
          0.031132399999999994,
          0.031226599999999997,
          0.031320799999999996,
          0.031415,
          0.0315092,
          0.0316034,
          0.0316976,
          0.031791799999999995,
          0.031886,
          0.03198019999999999,
          0.032074399999999996,
          0.0321686,
          0.0322628,
          0.032357000000000004,
          0.0324512,
          0.032545399999999995,
          0.0326396,
          0.0327338,
          0.032828,
          0.0329222,
          0.0330164,
          0.0331106,
          0.0332048,
          0.033298999999999995,
          0.0333932,
          0.0334874,
          0.033581599999999996,
          0.0336758,
          0.03377,
          0.033864200000000004,
          0.0339584,
          0.034052599999999995,
          0.0341468,
          0.034241,
          0.034335199999999996,
          0.0344294,
          0.0345236,
          0.0346178,
          0.034712,
          0.0348062,
          0.034900400000000005,
          0.034994599999999994,
          0.035088799999999996,
          0.035183,
          0.0352772,
          0.0353714,
          0.0354656,
          0.0355598,
          0.035654,
          0.0357482,
          0.035842399999999996,
          0.0359366,
          0.036030799999999995,
          0.036125,
          0.0362192,
          0.0363134,
          0.0364076,
          0.0365018,
          0.036596000000000004,
          0.0366902,
          0.036784399999999995,
          0.0368786,
          0.0369728,
          0.037066999999999996,
          0.0371612,
          0.0372554,
          0.037349600000000004,
          0.0374438,
          0.037538,
          0.037632200000000005,
          0.03772639999999999,
          0.037820599999999996,
          0.0379148,
          0.038009,
          0.0381032,
          0.0381974,
          0.0382916,
          0.0383858,
          0.03848,
          0.038574199999999996,
          0.0386684,
          0.038762599999999994,
          0.0388568,
          0.038951,
          0.0390452,
          0.0391394,
          0.0392336,
          0.0393278,
          0.039422,
          0.039516199999999994,
          0.0396104,
          0.0397046,
          0.039798799999999995,
          0.039893,
          0.0399872,
          0.0400814,
          0.0401756,
          0.0402698,
          0.040364000000000004,
          0.04045819999999999,
          0.040552399999999995,
          0.0406466,
          0.0407408,
          0.040834999999999996,
          0.0409292,
          0.0410234,
          0.041117600000000004,
          0.0412118,
          0.041305999999999995,
          0.0414002,
          0.041494399999999994,
          0.041588599999999996,
          0.0416828,
          0.041777,
          0.0418712,
          0.0419654,
          0.0420596,
          0.042153800000000005,
          0.042247999999999994,
          0.042342199999999997,
          0.0424364,
          0.042530599999999995,
          0.0426248,
          0.042719,
          0.0428132,
          0.0429074,
          0.0430016,
          0.043095800000000004,
          0.04318999999999999,
          0.043284199999999995,
          0.0433784,
          0.0434726,
          0.043566799999999996,
          0.043661,
          0.0437552,
          0.043849400000000004,
          0.0439436,
          0.044037799999999995,
          0.044132,
          0.04422619999999999,
          0.044320399999999996,
          0.0444146,
          0.0445088,
          0.044603,
          0.0446972,
          0.0447914,
          0.044885600000000005,
          0.04497979999999999,
          0.045073999999999996,
          0.0451682,
          0.045262399999999994,
          0.0453566,
          0.0454508,
          0.045545,
          0.0456392,
          0.0457334,
          0.0458276,
          0.0459218,
          0.046015999999999994,
          0.0461102,
          0.0462044,
          0.046298599999999995,
          0.0463928,
          0.046487,
          0.0465812,
          0.0466754,
          0.046769599999999995,
          0.0468638,
          0.04695799999999999,
          0.047052199999999995,
          0.0471464,
          0.0472406,
          0.047334799999999996,
          0.047429,
          0.0475232,
          0.047617400000000004,
          0.04771159999999999,
          0.047805799999999996
         ],
         "xaxis": "x",
         "y": [
          104.1477499348057,
          109.69122514127753,
          115.20254327971624,
          120.64900332498136,
          125.9970234684102,
          131.21249334779782,
          136.26114922260078,
          141.10896661568876,
          145.72256436007385,
          150.06961351709603,
          154.11924428790599,
          157.8424438367158,
          161.2124378925585,
          164.20504910318297,
          166.79902538273302,
          168.9763319226427,
          170.72240111649901,
          172.02633537420107,
          172.88105865375712,
          173.28341350200014,
          173.23420144620417,
          172.73816569206315,
          171.80391623256796,
          170.4437986282767,
          168.6737088532274,
          166.51285768323064,
          163.98348910696825,
          161.11055813947902,
          157.92137418951947,
          154.4452167578135,
          150.71293070737596,
          146.7565086395996,
          142.60866802530475,
          138.30243067817503,
          133.87071192370996,
          129.34592641959333,
          124.7596170372254,
          120.14211253696988,
          115.52221898264956,
          110.92694896758272,
          106.3812917903665,
          101.90802674984673,
          97.52758075142137,
          93.25793045629202,
          89.11454828525262,
          85.11039073052413,
          81.25592665158418,
          77.55920254933442,
          74.02594123903344,
          70.65966988432045,
          67.46187301671345,
          64.43216594791282,
          61.568483883401726,
          58.867282059474945,
          56.323742343526746,
          53.93198194858124,
          51.68526020532234,
          49.57617969479153,
          47.59687845825282,
          45.73921045312321,
          43.994911901170134,
          42.355751663892825,
          40.81366426759578,
          39.36086467580446,
          37.989944359485875,
          36.69394863764895,
          35.466435645577796,
          34.30151763003973,
          33.193885566732575,
          32.13881834287224,
          31.13217794641202,
          30.17039225336434,
          29.2504271075519,
          28.36974944521282,
          27.526283233302586,
          26.718359968713585,
          25.94466543001494,
          25.20418428801648,
          24.49614407095465,
          23.819959848904837,
          23.175180854620685,
          22.5614400987621,
          21.978407870592275,
          21.425749844675174,
          20.90309034360829,
          20.409981139796727,
          19.94587601881841,
          19.51011117580759,
          19.10189137688637,
          18.720281692026074,
          18.364204495444465,
          18.032441335962446,
          17.72363920346693,
          17.436320659147203,
          17.168897256475805,
          16.91968565657121,
          16.686925834804462,
          16.46880078413455,
          16.263457143192714,
          16.06902621182259,
          15.883644861635922,
          15.705475902015609,
          15.532727520645846,
          15.363671479808229,
          15.196659813136108,
          15.030139830171155,
          14.862667296009528,
          14.692917708897921,
          14.519695648480717,
          14.341942210478615,
          14.158740579226132,
          13.969319817403354,
          13.773056972517686,
          13.56947761260597,
          13.35825490991572,
          13.139207391905002,
          12.912295474880372,
          12.677616888190201,
          12.435401087371298,
          12.186002744253756,
          11.929894391911182,
          11.66765829350477,
          11.399977597319072,
          11.127626836199251,
          10.851461828502773,
          10.572409039641428,
          10.291454468136829,
          10.00963212744347,
          9.728012204022141,
          9.447688982543097,
          9.16976863984374,
          8.895357019505783,
          8.625547507819842,
          8.361409138709785,
          8.103975059257106,
          7.854231488312283,
          7.6131072980065095,
          7.381464341682891,
          7.160088641948987,
          6.9496825395052495,
          6.750857887585001,
          6.564130358852733,
          6.389914912150064,
          6.2285224463144555,
          6.080157648200588,
          5.944918022753964,
          5.82279407519798,
          5.71367059966786,
          5.617329015395154,
          5.533450681098359,
          5.461621110689838,
          5.401335008727693,
          5.352002042031243,
          5.312953264216553,
          5.283448112161749,
          5.262681897072798,
          5.249793717338728,
          5.243874725184847,
          5.243976683725217,
          5.24912075491417,
          5.258306461720883,
          5.2705207693296146,
          5.284747230152796,
          5.299975135915235,
          5.315208617134105,
          5.3294756262084935,
          5.34183673537611,
          5.351393675406469,
          5.357297535551366,
          5.358756540464629,
          5.3550433160342505,
          5.345501553812528,
          5.329551983399895,
          5.306697564073272,
          5.276527811390517,
          5.238722181579332,
          5.193052446244108,
          5.139384002192083,
          5.0776760757702135,
          5.007980797692419,
          4.930441142510001,
          4.845287746152387,
          4.752834634807688,
          4.653473918263152,
          4.547669520121785,
          4.435950035507309,
          4.318900823460801,
          4.197155455767733,
          4.071386656055201,
          3.9422968723669425,
          3.810608632846027,
          3.677054837509866,
          3.5423691393531644,
          3.407276565211014,
          3.2724845210782196,
          3.1386743181037122,
          3.0064933445035806,
          2.876547995453806,
          2.749397457954617,
          2.6255484310468384,
          2.5054508439637297,
          2.3894946161782613,
          2.2780074842149194,
          2.1712539008851186,
          2.069434993614518,
          1.972689550081127,
          1.881095981781606,
          1.7946751996768109,
          1.7133943210054416,
          1.6371711129437363,
          1.565879067254433,
          1.499352990609386,
          1.4373949880581176,
          1.37978071228895,
          1.3262657489920537,
          1.2765920088474532,
          1.230493999441288,
          1.1877048557280292,
          1.147962015418401,
          1.1110124357422428,
          1.0766172602158894,
          1.0445558580845478,
          1.014629174710007,
          0.986662347985109,
          0.9605065634928129,
          0.936040139173052,
          0.9131688482803773,
          0.8918255069673537,
          0.8719688694766057,
          0.8535818892508131,
          0.8366694178887708,
          0.8212554254450549,
          0.8073798348037099,
          0.7950950695301615,
          0.7844624185693805,
          0.7755483223385352,
          0.7684206831647306,
          0.763145298728746,
          0.7597825103567543,
          0.7583841488889432,
          0.7589908497466187,
          0.7616297960728305,
          0.7663129348350378,
          0.7730356959822114,
          0.7817762295912549,
          0.7924951608702357,
          0.8051358483494291,
          0.8196251170014994,
          0.8358744257673927,
          0.853781418353041,
          0.8732317974724122,
          0.894101456145207,
          0.9162587953396094,
          0.9395671552314402,
          0.9638872876032573,
          0.9890797993269651,
          1.0150075012878546,
          1.0415376032799677,
          1.0685437030426992,
          1.0959075263856621,
          1.1235203849043416,
          1.1512843277508653,
          1.1791129739217008,
          1.206932021202968,
          1.2346794369502123,
          1.2623053439917038,
          1.2897716219046027,
          1.3170512495555606,
          1.3441274190217762,
          1.3709924537849592,
          1.3976465654567576,
          1.4240964833510439,
          1.4503539901244988,
          1.4764343946663263,
          1.5023549706702586,
          1.5281333861270612,
          1.5537861456001016,
          1.57932706384769,
          1.6047657863690155,
          1.6301063699747564,
          1.6553459346710575,
          1.6804733970941486,
          1.7054682954785978,
          1.7302997166591,
          1.7549253368059248,
          1.7792905893331135,
          1.8033279755030476,
          1.8269565354494035,
          1.850081499396544,
          1.872594140500403,
          1.8943718517125807,
          1.915278469136084,
          1.935164863294148,
          1.9538698174196585,
          1.9712212081997122,
          1.9870374993556237,
          2.0011295520561796,
          2.013302748580121,
          2.023359417065828,
          2.031101535881918,
          2.036333686449501,
          2.038866213615949,
          2.038518543320047,
          2.0351225987074946,
          2.0285262484527986,
          2.0185967151887247,
          2.005223867960786,
          1.9883233207708941,
          1.967839259732907,
          1.9437469242262613,
          1.9160546727001893,
          1.8848055713506415,
          1.8500784535703476,
          1.8119884095764793,
          1.770686678590079,
          1.726359929953883,
          1.6792289341635278,
          1.6295466394593754,
          1.5775956838871865,
          1.5236853861090287,
          1.468148270292037,
          1.4113361907412767,
          1.353616130265023,
          1.2953657523429218,
          1.2369687908791691,
          1.178810362629313,
          1.1212722863520077,
          1.0647284895052234,
          1.0095405781108169,
          0.9560536385469178,
          0.9045923318405062,
          0.8554573319006306,
          0.80892214944571,
          0.7652303735213299,
          0.7245933528371409,
          0.6871883299936303,
          0.6531570332878085,
          0.6226047233848898,
          0.5955996858547695,
          0.5721731554597504,
          0.5523196541361248,
          0.5359977217648579,
          0.5231310169482442,
          0.5136097639283513,
          0.5072925212972202,
          0.5040082480402203,
          0.5035586425039115,
          0.50572072988359,
          0.5102496736056701,
          0.5168817853971164,
          0.5253377077961319,
          0.5353257413259538,
          0.5465452865425243,
          0.5586903687466824,
          0.5714532104416209,
          0.5845278137783478,
          0.5976135124598964,
          0.6104184500839828,
          0.622662939916222,
          0.6340826598186872,
          0.644431635708789,
          0.6534849676570118,
          0.6610412546722186,
          0.6669246774422428,
          0.6709867028107426,
          0.673107379534232,
          0.6731962017717724,
          0.6711925246533829,
          0.6670655249412357,
          0.6608137089879218,
          0.6524639796257863,
          0.6420702829895125,
          0.629711865274768,
          0.6154911777710291,
          0.5995314759004772,
          0.5819741642037171,
          0.5629759440373454,
          0.5427058240393482,
          0.521342055084541,
          0.4990690514618243,
          0.47607435838617845,
          0.45254572279655353,
          0.42866831982434067,
          0.40462218152933327,
          0.3805798677111463,
          0.35670441106071193,
          0.33314756088129227,
          0.31004834134922227,
          0.28753193206304206,
          0.2657088706931971,
          0.24467457011537866,
          0.22450913568144282,
          0.20527746240819894,
          0.18702958696269686,
          0.16980126546789137,
          0.15361474537875833,
          0.13847969798136184,
          0.1243942774051132,
          0.11134627233994289,
          0.09931431781762229,
          0.08826913633275472,
          0.07817478011306522,
          0.0689898493619731,
          0.06066866464935143,
          0.05316237518215354,
          0.046419988317495296,
          0.040389309270568156,
          0.03501778341742785,
          0.030253236813829822,
          0.02604451347943738,
          0.022342010583422216,
          0.019098114881824422,
          0.016267545584426214,
          0.013807610269470999,
          0.01167838153116357,
          0.00984280276083661,
          0.008266731859442279,
          0.006918931793949573,
          0.005771016784301535,
          0.004797362583398147,
          0.003974988832622005,
          0.0032834208805214257,
          0.002704537780391105,
          0.002222412467828213,
          0.0018231493916695868,
          0.0014947241560256189,
          0.0012268290474496007,
          0.0010107276847624005,
          0.0008391214501173776,
          0.0007060298445815041,
          0.0006066864618697147,
          0.0005374518884122455,
          0.000495744512110765,
          0.0004799899488406712,
          0.0004895895657993814,
          0.0005249083833972632,
          0.0005872824606127289,
          0.0006790456999584756,
          0.0008035758345393871,
          0.0009653591683938443,
          0.0011700734202607303,
          0.0014246877590006052,
          0.0017375788065032171,
          0.002118661013378841,
          0.002579529378839828,
          0.003133611986653563,
          0.0037963292650298615,
          0.0045852562548192675,
          0.005520283496768429,
          0.00662377143876637,
          0.0079206925368476,
          0.009438754502963477,
          0.011208497466805465,
          0.013263357201406223,
          0.015639686049919426,
          0.01837672282408162,
          0.02151650276549934,
          0.02510369871174262,
          0.029185384931681588,
          0.03381071572687536,
          0.039030511871015305,
          0.044896749302773965,
          0.05146194621426737,
          0.058778446790743705,
          0.0668976023460378,
          0.07586885343535661,
          0.08573871966770005,
          0.09654970732193467,
          0.10833914841270098,
          0.12113798845704932,
          0.13496954374675532,
          0.1498482523084418,
          0.16577844579868392,
          0.18275317219375592,
          0.20075310115383005,
          0.21974554523536788,
          0.23968363057153327,
          0.2605056501356751,
          0.2821346311688747,
          0.3044781457411292,
          0.3274283897139688,
          0.35086255060627913,
          0.37464347910217577,
          0.3986206722894397,
          0.42263156932990065,
          0.4465031523281284,
          0.4700538369042295,
          0.4930956286395096,
          0.5154365134183483,
          0.5368830420125504,
          0.557243062321734,
          0.5763285467578573,
          0.5939584575836551,
          0.6099615897894829,
          0.6241793294822506,
          0.6364682658744991,
          0.6467025968528533,
          0.6547762717634844,
          0.6606048204044185,
          0.6641268241253614
         ],
         "yaxis": "y"
        }
       ],
       "layout": {
        "barmode": "overlay",
        "hovermode": "closest",
        "legend": {
         "traceorder": "reversed"
        },
        "template": {
         "data": {
          "bar": [
           {
            "error_x": {
             "color": "#2a3f5f"
            },
            "error_y": {
             "color": "#2a3f5f"
            },
            "marker": {
             "line": {
              "color": "#E5ECF6",
              "width": 0.5
             },
             "pattern": {
              "fillmode": "overlay",
              "size": 10,
              "solidity": 0.2
             }
            },
            "type": "bar"
           }
          ],
          "barpolar": [
           {
            "marker": {
             "line": {
              "color": "#E5ECF6",
              "width": 0.5
             },
             "pattern": {
              "fillmode": "overlay",
              "size": 10,
              "solidity": 0.2
             }
            },
            "type": "barpolar"
           }
          ],
          "carpet": [
           {
            "aaxis": {
             "endlinecolor": "#2a3f5f",
             "gridcolor": "white",
             "linecolor": "white",
             "minorgridcolor": "white",
             "startlinecolor": "#2a3f5f"
            },
            "baxis": {
             "endlinecolor": "#2a3f5f",
             "gridcolor": "white",
             "linecolor": "white",
             "minorgridcolor": "white",
             "startlinecolor": "#2a3f5f"
            },
            "type": "carpet"
           }
          ],
          "choropleth": [
           {
            "colorbar": {
             "outlinewidth": 0,
             "ticks": ""
            },
            "type": "choropleth"
           }
          ],
          "contour": [
           {
            "colorbar": {
             "outlinewidth": 0,
             "ticks": ""
            },
            "colorscale": [
             [
              0,
              "#0d0887"
             ],
             [
              0.1111111111111111,
              "#46039f"
             ],
             [
              0.2222222222222222,
              "#7201a8"
             ],
             [
              0.3333333333333333,
              "#9c179e"
             ],
             [
              0.4444444444444444,
              "#bd3786"
             ],
             [
              0.5555555555555556,
              "#d8576b"
             ],
             [
              0.6666666666666666,
              "#ed7953"
             ],
             [
              0.7777777777777778,
              "#fb9f3a"
             ],
             [
              0.8888888888888888,
              "#fdca26"
             ],
             [
              1,
              "#f0f921"
             ]
            ],
            "type": "contour"
           }
          ],
          "contourcarpet": [
           {
            "colorbar": {
             "outlinewidth": 0,
             "ticks": ""
            },
            "type": "contourcarpet"
           }
          ],
          "heatmap": [
           {
            "colorbar": {
             "outlinewidth": 0,
             "ticks": ""
            },
            "colorscale": [
             [
              0,
              "#0d0887"
             ],
             [
              0.1111111111111111,
              "#46039f"
             ],
             [
              0.2222222222222222,
              "#7201a8"
             ],
             [
              0.3333333333333333,
              "#9c179e"
             ],
             [
              0.4444444444444444,
              "#bd3786"
             ],
             [
              0.5555555555555556,
              "#d8576b"
             ],
             [
              0.6666666666666666,
              "#ed7953"
             ],
             [
              0.7777777777777778,
              "#fb9f3a"
             ],
             [
              0.8888888888888888,
              "#fdca26"
             ],
             [
              1,
              "#f0f921"
             ]
            ],
            "type": "heatmap"
           }
          ],
          "heatmapgl": [
           {
            "colorbar": {
             "outlinewidth": 0,
             "ticks": ""
            },
            "colorscale": [
             [
              0,
              "#0d0887"
             ],
             [
              0.1111111111111111,
              "#46039f"
             ],
             [
              0.2222222222222222,
              "#7201a8"
             ],
             [
              0.3333333333333333,
              "#9c179e"
             ],
             [
              0.4444444444444444,
              "#bd3786"
             ],
             [
              0.5555555555555556,
              "#d8576b"
             ],
             [
              0.6666666666666666,
              "#ed7953"
             ],
             [
              0.7777777777777778,
              "#fb9f3a"
             ],
             [
              0.8888888888888888,
              "#fdca26"
             ],
             [
              1,
              "#f0f921"
             ]
            ],
            "type": "heatmapgl"
           }
          ],
          "histogram": [
           {
            "marker": {
             "pattern": {
              "fillmode": "overlay",
              "size": 10,
              "solidity": 0.2
             }
            },
            "type": "histogram"
           }
          ],
          "histogram2d": [
           {
            "colorbar": {
             "outlinewidth": 0,
             "ticks": ""
            },
            "colorscale": [
             [
              0,
              "#0d0887"
             ],
             [
              0.1111111111111111,
              "#46039f"
             ],
             [
              0.2222222222222222,
              "#7201a8"
             ],
             [
              0.3333333333333333,
              "#9c179e"
             ],
             [
              0.4444444444444444,
              "#bd3786"
             ],
             [
              0.5555555555555556,
              "#d8576b"
             ],
             [
              0.6666666666666666,
              "#ed7953"
             ],
             [
              0.7777777777777778,
              "#fb9f3a"
             ],
             [
              0.8888888888888888,
              "#fdca26"
             ],
             [
              1,
              "#f0f921"
             ]
            ],
            "type": "histogram2d"
           }
          ],
          "histogram2dcontour": [
           {
            "colorbar": {
             "outlinewidth": 0,
             "ticks": ""
            },
            "colorscale": [
             [
              0,
              "#0d0887"
             ],
             [
              0.1111111111111111,
              "#46039f"
             ],
             [
              0.2222222222222222,
              "#7201a8"
             ],
             [
              0.3333333333333333,
              "#9c179e"
             ],
             [
              0.4444444444444444,
              "#bd3786"
             ],
             [
              0.5555555555555556,
              "#d8576b"
             ],
             [
              0.6666666666666666,
              "#ed7953"
             ],
             [
              0.7777777777777778,
              "#fb9f3a"
             ],
             [
              0.8888888888888888,
              "#fdca26"
             ],
             [
              1,
              "#f0f921"
             ]
            ],
            "type": "histogram2dcontour"
           }
          ],
          "mesh3d": [
           {
            "colorbar": {
             "outlinewidth": 0,
             "ticks": ""
            },
            "type": "mesh3d"
           }
          ],
          "parcoords": [
           {
            "line": {
             "colorbar": {
              "outlinewidth": 0,
              "ticks": ""
             }
            },
            "type": "parcoords"
           }
          ],
          "pie": [
           {
            "automargin": true,
            "type": "pie"
           }
          ],
          "scatter": [
           {
            "fillpattern": {
             "fillmode": "overlay",
             "size": 10,
             "solidity": 0.2
            },
            "type": "scatter"
           }
          ],
          "scatter3d": [
           {
            "line": {
             "colorbar": {
              "outlinewidth": 0,
              "ticks": ""
             }
            },
            "marker": {
             "colorbar": {
              "outlinewidth": 0,
              "ticks": ""
             }
            },
            "type": "scatter3d"
           }
          ],
          "scattercarpet": [
           {
            "marker": {
             "colorbar": {
              "outlinewidth": 0,
              "ticks": ""
             }
            },
            "type": "scattercarpet"
           }
          ],
          "scattergeo": [
           {
            "marker": {
             "colorbar": {
              "outlinewidth": 0,
              "ticks": ""
             }
            },
            "type": "scattergeo"
           }
          ],
          "scattergl": [
           {
            "marker": {
             "colorbar": {
              "outlinewidth": 0,
              "ticks": ""
             }
            },
            "type": "scattergl"
           }
          ],
          "scattermapbox": [
           {
            "marker": {
             "colorbar": {
              "outlinewidth": 0,
              "ticks": ""
             }
            },
            "type": "scattermapbox"
           }
          ],
          "scatterpolar": [
           {
            "marker": {
             "colorbar": {
              "outlinewidth": 0,
              "ticks": ""
             }
            },
            "type": "scatterpolar"
           }
          ],
          "scatterpolargl": [
           {
            "marker": {
             "colorbar": {
              "outlinewidth": 0,
              "ticks": ""
             }
            },
            "type": "scatterpolargl"
           }
          ],
          "scatterternary": [
           {
            "marker": {
             "colorbar": {
              "outlinewidth": 0,
              "ticks": ""
             }
            },
            "type": "scatterternary"
           }
          ],
          "surface": [
           {
            "colorbar": {
             "outlinewidth": 0,
             "ticks": ""
            },
            "colorscale": [
             [
              0,
              "#0d0887"
             ],
             [
              0.1111111111111111,
              "#46039f"
             ],
             [
              0.2222222222222222,
              "#7201a8"
             ],
             [
              0.3333333333333333,
              "#9c179e"
             ],
             [
              0.4444444444444444,
              "#bd3786"
             ],
             [
              0.5555555555555556,
              "#d8576b"
             ],
             [
              0.6666666666666666,
              "#ed7953"
             ],
             [
              0.7777777777777778,
              "#fb9f3a"
             ],
             [
              0.8888888888888888,
              "#fdca26"
             ],
             [
              1,
              "#f0f921"
             ]
            ],
            "type": "surface"
           }
          ],
          "table": [
           {
            "cells": {
             "fill": {
              "color": "#EBF0F8"
             },
             "line": {
              "color": "white"
             }
            },
            "header": {
             "fill": {
              "color": "#C8D4E3"
             },
             "line": {
              "color": "white"
             }
            },
            "type": "table"
           }
          ]
         },
         "layout": {
          "annotationdefaults": {
           "arrowcolor": "#2a3f5f",
           "arrowhead": 0,
           "arrowwidth": 1
          },
          "autotypenumbers": "strict",
          "coloraxis": {
           "colorbar": {
            "outlinewidth": 0,
            "ticks": ""
           }
          },
          "colorscale": {
           "diverging": [
            [
             0,
             "#8e0152"
            ],
            [
             0.1,
             "#c51b7d"
            ],
            [
             0.2,
             "#de77ae"
            ],
            [
             0.3,
             "#f1b6da"
            ],
            [
             0.4,
             "#fde0ef"
            ],
            [
             0.5,
             "#f7f7f7"
            ],
            [
             0.6,
             "#e6f5d0"
            ],
            [
             0.7,
             "#b8e186"
            ],
            [
             0.8,
             "#7fbc41"
            ],
            [
             0.9,
             "#4d9221"
            ],
            [
             1,
             "#276419"
            ]
           ],
           "sequential": [
            [
             0,
             "#0d0887"
            ],
            [
             0.1111111111111111,
             "#46039f"
            ],
            [
             0.2222222222222222,
             "#7201a8"
            ],
            [
             0.3333333333333333,
             "#9c179e"
            ],
            [
             0.4444444444444444,
             "#bd3786"
            ],
            [
             0.5555555555555556,
             "#d8576b"
            ],
            [
             0.6666666666666666,
             "#ed7953"
            ],
            [
             0.7777777777777778,
             "#fb9f3a"
            ],
            [
             0.8888888888888888,
             "#fdca26"
            ],
            [
             1,
             "#f0f921"
            ]
           ],
           "sequentialminus": [
            [
             0,
             "#0d0887"
            ],
            [
             0.1111111111111111,
             "#46039f"
            ],
            [
             0.2222222222222222,
             "#7201a8"
            ],
            [
             0.3333333333333333,
             "#9c179e"
            ],
            [
             0.4444444444444444,
             "#bd3786"
            ],
            [
             0.5555555555555556,
             "#d8576b"
            ],
            [
             0.6666666666666666,
             "#ed7953"
            ],
            [
             0.7777777777777778,
             "#fb9f3a"
            ],
            [
             0.8888888888888888,
             "#fdca26"
            ],
            [
             1,
             "#f0f921"
            ]
           ]
          },
          "colorway": [
           "#636efa",
           "#EF553B",
           "#00cc96",
           "#ab63fa",
           "#FFA15A",
           "#19d3f3",
           "#FF6692",
           "#B6E880",
           "#FF97FF",
           "#FECB52"
          ],
          "font": {
           "color": "#2a3f5f"
          },
          "geo": {
           "bgcolor": "white",
           "lakecolor": "white",
           "landcolor": "#E5ECF6",
           "showlakes": true,
           "showland": true,
           "subunitcolor": "white"
          },
          "hoverlabel": {
           "align": "left"
          },
          "hovermode": "closest",
          "mapbox": {
           "style": "light"
          },
          "paper_bgcolor": "white",
          "plot_bgcolor": "#E5ECF6",
          "polar": {
           "angularaxis": {
            "gridcolor": "white",
            "linecolor": "white",
            "ticks": ""
           },
           "bgcolor": "#E5ECF6",
           "radialaxis": {
            "gridcolor": "white",
            "linecolor": "white",
            "ticks": ""
           }
          },
          "scene": {
           "xaxis": {
            "backgroundcolor": "#E5ECF6",
            "gridcolor": "white",
            "gridwidth": 2,
            "linecolor": "white",
            "showbackground": true,
            "ticks": "",
            "zerolinecolor": "white"
           },
           "yaxis": {
            "backgroundcolor": "#E5ECF6",
            "gridcolor": "white",
            "gridwidth": 2,
            "linecolor": "white",
            "showbackground": true,
            "ticks": "",
            "zerolinecolor": "white"
           },
           "zaxis": {
            "backgroundcolor": "#E5ECF6",
            "gridcolor": "white",
            "gridwidth": 2,
            "linecolor": "white",
            "showbackground": true,
            "ticks": "",
            "zerolinecolor": "white"
           }
          },
          "shapedefaults": {
           "line": {
            "color": "#2a3f5f"
           }
          },
          "ternary": {
           "aaxis": {
            "gridcolor": "white",
            "linecolor": "white",
            "ticks": ""
           },
           "baxis": {
            "gridcolor": "white",
            "linecolor": "white",
            "ticks": ""
           },
           "bgcolor": "#E5ECF6",
           "caxis": {
            "gridcolor": "white",
            "linecolor": "white",
            "ticks": ""
           }
          },
          "title": {
           "x": 0.05
          },
          "xaxis": {
           "automargin": true,
           "gridcolor": "white",
           "linecolor": "white",
           "ticks": "",
           "title": {
            "standoff": 15
           },
           "zerolinecolor": "white",
           "zerolinewidth": 2
          },
          "yaxis": {
           "automargin": true,
           "gridcolor": "white",
           "linecolor": "white",
           "ticks": "",
           "title": {
            "standoff": 15
           },
           "zerolinecolor": "white",
           "zerolinewidth": 2
          }
         }
        },
        "title": {
         "text": "Распределение вероятности дефолта (PD) по классам"
        },
        "xaxis": {
         "anchor": "y2",
         "domain": [
          0,
          1
         ],
         "showgrid": true,
         "title": {
          "text": "PD"
         },
         "zeroline": false
        },
        "yaxis": {
         "anchor": "free",
         "domain": [
          0,
          1
         ],
         "position": 0,
         "showgrid": true,
         "title": {
          "text": "Density"
         }
        }
       }
      }
     },
     "metadata": {},
     "output_type": "display_data"
    },
    {
     "data": {
      "application/vnd.plotly.v1+json": {
       "config": {
        "plotlyServerURL": "https://plot.ly"
       },
       "data": [
        {
         "line": {
          "color": "green"
         },
         "mode": "lines",
         "name": "Survival Probability",
         "type": "scatter",
         "x": [
          0,
          0.0008,
          0.0009,
          0.001,
          0.0011,
          0.0012,
          0.0013,
          0.0014,
          0.0015,
          0.0016,
          0.0017,
          0.0018,
          0.0019,
          0.002,
          0.0021,
          0.0022,
          0.0023,
          0.0024,
          0.0025,
          0.0026,
          0.0027,
          0.0028,
          0.0029,
          0.003,
          0.0031,
          0.0032,
          0.0033,
          0.0034,
          0.0035,
          0.0036,
          0.0037,
          0.0038,
          0.0039,
          0.004,
          0.0041,
          0.0043,
          0.0044,
          0.0045,
          0.0046,
          0.0047,
          0.005,
          0.0051,
          0.0053,
          0.0055,
          0.0056,
          0.0057,
          0.0058,
          0.0059,
          0.0062,
          0.0064,
          0.0065,
          0.0067,
          0.0068,
          0.0069,
          0.007,
          0.0071,
          0.0072,
          0.0073,
          0.0074,
          0.0076,
          0.0078,
          0.0079,
          0.008,
          0.0081,
          0.0082,
          0.0083,
          0.0085,
          0.0092,
          0.0093,
          0.0095,
          0.0097,
          0.0098,
          0.0099,
          0.01,
          0.0102,
          0.0104,
          0.0105,
          0.0106,
          0.0107,
          0.0113,
          0.0116,
          0.0119,
          0.0123,
          0.0125,
          0.0126,
          0.0127,
          0.0133,
          0.0139,
          0.0149,
          0.0151,
          0.0162,
          0.0164,
          0.0171,
          0.0172,
          0.0176,
          0.0179,
          0.018,
          0.0191,
          0.0217,
          0.0253,
          0.0272,
          0.0286,
          0.0301,
          0.0303,
          0.0353,
          0.0479
         ],
         "y": [
          1,
          1,
          1,
          1,
          1,
          1,
          1,
          1,
          1,
          1,
          1,
          1,
          1,
          1,
          0.9968553459119492,
          0.9968553459119492,
          0.9968553459119492,
          0.9968553459119492,
          0.9968553459119492,
          0.9968553459119492,
          0.9968553459119492,
          0.9968553459119492,
          0.9968553459119492,
          0.9968553459119492,
          0.9968553459119492,
          0.9968553459119492,
          0.9968553459119492,
          0.9968553459119492,
          0.9968553459119492,
          0.9814002242699037,
          0.9814002242699037,
          0.9732218890676548,
          0.9650435538654057,
          0.9650435538654057,
          0.9650435538654057,
          0.9650435538654057,
          0.956189943279485,
          0.956189943279485,
          0.956189943279485,
          0.956189943279485,
          0.956189943279485,
          0.956189943279485,
          0.956189943279485,
          0.956189943279485,
          0.956189943279485,
          0.9453241484694905,
          0.9453241484694905,
          0.9453241484694905,
          0.9453241484694905,
          0.9453241484694905,
          0.9453241484694905,
          0.9453241484694905,
          0.9453241484694905,
          0.9453241484694905,
          0.9453241484694905,
          0.9453241484694905,
          0.9453241484694905,
          0.9453241484694905,
          0.9453241484694905,
          0.9132792620806941,
          0.9132792620806941,
          0.9132792620806941,
          0.9132792620806941,
          0.9132792620806941,
          0.9132792620806941,
          0.9132792620806941,
          0.9132792620806941,
          0.9132792620806941,
          0.894252610787346,
          0.894252610787346,
          0.894252610787346,
          0.8739286878149064,
          0.8536047648424668,
          0.8332808418700272,
          0.8332808418700272,
          0.8332808418700272,
          0.8332808418700272,
          0.8080299072679051,
          0.8080299072679051,
          0.8080299072679051,
          0.8080299072679051,
          0.8080299072679051,
          0.8080299072679051,
          0.8080299072679051,
          0.8080299072679051,
          0.8080299072679051,
          0.7676284119045098,
          0.7676284119045098,
          0.7676284119045098,
          0.7676284119045098,
          0.7676284119045098,
          0.7676284119045098,
          0.7676284119045098,
          0.7676284119045098,
          0.7676284119045098,
          0.7676284119045098,
          0.7676284119045098,
          0.7676284119045098,
          0.7676284119045098,
          0.7676284119045098,
          0.7676284119045098,
          0.7676284119045098,
          0.7676284119045098,
          0.7676284119045098,
          0.7676284119045098,
          0.7676284119045098
         ]
        }
       ],
       "layout": {
        "template": {
         "data": {
          "bar": [
           {
            "error_x": {
             "color": "#2a3f5f"
            },
            "error_y": {
             "color": "#2a3f5f"
            },
            "marker": {
             "line": {
              "color": "#E5ECF6",
              "width": 0.5
             },
             "pattern": {
              "fillmode": "overlay",
              "size": 10,
              "solidity": 0.2
             }
            },
            "type": "bar"
           }
          ],
          "barpolar": [
           {
            "marker": {
             "line": {
              "color": "#E5ECF6",
              "width": 0.5
             },
             "pattern": {
              "fillmode": "overlay",
              "size": 10,
              "solidity": 0.2
             }
            },
            "type": "barpolar"
           }
          ],
          "carpet": [
           {
            "aaxis": {
             "endlinecolor": "#2a3f5f",
             "gridcolor": "white",
             "linecolor": "white",
             "minorgridcolor": "white",
             "startlinecolor": "#2a3f5f"
            },
            "baxis": {
             "endlinecolor": "#2a3f5f",
             "gridcolor": "white",
             "linecolor": "white",
             "minorgridcolor": "white",
             "startlinecolor": "#2a3f5f"
            },
            "type": "carpet"
           }
          ],
          "choropleth": [
           {
            "colorbar": {
             "outlinewidth": 0,
             "ticks": ""
            },
            "type": "choropleth"
           }
          ],
          "contour": [
           {
            "colorbar": {
             "outlinewidth": 0,
             "ticks": ""
            },
            "colorscale": [
             [
              0,
              "#0d0887"
             ],
             [
              0.1111111111111111,
              "#46039f"
             ],
             [
              0.2222222222222222,
              "#7201a8"
             ],
             [
              0.3333333333333333,
              "#9c179e"
             ],
             [
              0.4444444444444444,
              "#bd3786"
             ],
             [
              0.5555555555555556,
              "#d8576b"
             ],
             [
              0.6666666666666666,
              "#ed7953"
             ],
             [
              0.7777777777777778,
              "#fb9f3a"
             ],
             [
              0.8888888888888888,
              "#fdca26"
             ],
             [
              1,
              "#f0f921"
             ]
            ],
            "type": "contour"
           }
          ],
          "contourcarpet": [
           {
            "colorbar": {
             "outlinewidth": 0,
             "ticks": ""
            },
            "type": "contourcarpet"
           }
          ],
          "heatmap": [
           {
            "colorbar": {
             "outlinewidth": 0,
             "ticks": ""
            },
            "colorscale": [
             [
              0,
              "#0d0887"
             ],
             [
              0.1111111111111111,
              "#46039f"
             ],
             [
              0.2222222222222222,
              "#7201a8"
             ],
             [
              0.3333333333333333,
              "#9c179e"
             ],
             [
              0.4444444444444444,
              "#bd3786"
             ],
             [
              0.5555555555555556,
              "#d8576b"
             ],
             [
              0.6666666666666666,
              "#ed7953"
             ],
             [
              0.7777777777777778,
              "#fb9f3a"
             ],
             [
              0.8888888888888888,
              "#fdca26"
             ],
             [
              1,
              "#f0f921"
             ]
            ],
            "type": "heatmap"
           }
          ],
          "heatmapgl": [
           {
            "colorbar": {
             "outlinewidth": 0,
             "ticks": ""
            },
            "colorscale": [
             [
              0,
              "#0d0887"
             ],
             [
              0.1111111111111111,
              "#46039f"
             ],
             [
              0.2222222222222222,
              "#7201a8"
             ],
             [
              0.3333333333333333,
              "#9c179e"
             ],
             [
              0.4444444444444444,
              "#bd3786"
             ],
             [
              0.5555555555555556,
              "#d8576b"
             ],
             [
              0.6666666666666666,
              "#ed7953"
             ],
             [
              0.7777777777777778,
              "#fb9f3a"
             ],
             [
              0.8888888888888888,
              "#fdca26"
             ],
             [
              1,
              "#f0f921"
             ]
            ],
            "type": "heatmapgl"
           }
          ],
          "histogram": [
           {
            "marker": {
             "pattern": {
              "fillmode": "overlay",
              "size": 10,
              "solidity": 0.2
             }
            },
            "type": "histogram"
           }
          ],
          "histogram2d": [
           {
            "colorbar": {
             "outlinewidth": 0,
             "ticks": ""
            },
            "colorscale": [
             [
              0,
              "#0d0887"
             ],
             [
              0.1111111111111111,
              "#46039f"
             ],
             [
              0.2222222222222222,
              "#7201a8"
             ],
             [
              0.3333333333333333,
              "#9c179e"
             ],
             [
              0.4444444444444444,
              "#bd3786"
             ],
             [
              0.5555555555555556,
              "#d8576b"
             ],
             [
              0.6666666666666666,
              "#ed7953"
             ],
             [
              0.7777777777777778,
              "#fb9f3a"
             ],
             [
              0.8888888888888888,
              "#fdca26"
             ],
             [
              1,
              "#f0f921"
             ]
            ],
            "type": "histogram2d"
           }
          ],
          "histogram2dcontour": [
           {
            "colorbar": {
             "outlinewidth": 0,
             "ticks": ""
            },
            "colorscale": [
             [
              0,
              "#0d0887"
             ],
             [
              0.1111111111111111,
              "#46039f"
             ],
             [
              0.2222222222222222,
              "#7201a8"
             ],
             [
              0.3333333333333333,
              "#9c179e"
             ],
             [
              0.4444444444444444,
              "#bd3786"
             ],
             [
              0.5555555555555556,
              "#d8576b"
             ],
             [
              0.6666666666666666,
              "#ed7953"
             ],
             [
              0.7777777777777778,
              "#fb9f3a"
             ],
             [
              0.8888888888888888,
              "#fdca26"
             ],
             [
              1,
              "#f0f921"
             ]
            ],
            "type": "histogram2dcontour"
           }
          ],
          "mesh3d": [
           {
            "colorbar": {
             "outlinewidth": 0,
             "ticks": ""
            },
            "type": "mesh3d"
           }
          ],
          "parcoords": [
           {
            "line": {
             "colorbar": {
              "outlinewidth": 0,
              "ticks": ""
             }
            },
            "type": "parcoords"
           }
          ],
          "pie": [
           {
            "automargin": true,
            "type": "pie"
           }
          ],
          "scatter": [
           {
            "fillpattern": {
             "fillmode": "overlay",
             "size": 10,
             "solidity": 0.2
            },
            "type": "scatter"
           }
          ],
          "scatter3d": [
           {
            "line": {
             "colorbar": {
              "outlinewidth": 0,
              "ticks": ""
             }
            },
            "marker": {
             "colorbar": {
              "outlinewidth": 0,
              "ticks": ""
             }
            },
            "type": "scatter3d"
           }
          ],
          "scattercarpet": [
           {
            "marker": {
             "colorbar": {
              "outlinewidth": 0,
              "ticks": ""
             }
            },
            "type": "scattercarpet"
           }
          ],
          "scattergeo": [
           {
            "marker": {
             "colorbar": {
              "outlinewidth": 0,
              "ticks": ""
             }
            },
            "type": "scattergeo"
           }
          ],
          "scattergl": [
           {
            "marker": {
             "colorbar": {
              "outlinewidth": 0,
              "ticks": ""
             }
            },
            "type": "scattergl"
           }
          ],
          "scattermapbox": [
           {
            "marker": {
             "colorbar": {
              "outlinewidth": 0,
              "ticks": ""
             }
            },
            "type": "scattermapbox"
           }
          ],
          "scatterpolar": [
           {
            "marker": {
             "colorbar": {
              "outlinewidth": 0,
              "ticks": ""
             }
            },
            "type": "scatterpolar"
           }
          ],
          "scatterpolargl": [
           {
            "marker": {
             "colorbar": {
              "outlinewidth": 0,
              "ticks": ""
             }
            },
            "type": "scatterpolargl"
           }
          ],
          "scatterternary": [
           {
            "marker": {
             "colorbar": {
              "outlinewidth": 0,
              "ticks": ""
             }
            },
            "type": "scatterternary"
           }
          ],
          "surface": [
           {
            "colorbar": {
             "outlinewidth": 0,
             "ticks": ""
            },
            "colorscale": [
             [
              0,
              "#0d0887"
             ],
             [
              0.1111111111111111,
              "#46039f"
             ],
             [
              0.2222222222222222,
              "#7201a8"
             ],
             [
              0.3333333333333333,
              "#9c179e"
             ],
             [
              0.4444444444444444,
              "#bd3786"
             ],
             [
              0.5555555555555556,
              "#d8576b"
             ],
             [
              0.6666666666666666,
              "#ed7953"
             ],
             [
              0.7777777777777778,
              "#fb9f3a"
             ],
             [
              0.8888888888888888,
              "#fdca26"
             ],
             [
              1,
              "#f0f921"
             ]
            ],
            "type": "surface"
           }
          ],
          "table": [
           {
            "cells": {
             "fill": {
              "color": "#EBF0F8"
             },
             "line": {
              "color": "white"
             }
            },
            "header": {
             "fill": {
              "color": "#C8D4E3"
             },
             "line": {
              "color": "white"
             }
            },
            "type": "table"
           }
          ]
         },
         "layout": {
          "annotationdefaults": {
           "arrowcolor": "#2a3f5f",
           "arrowhead": 0,
           "arrowwidth": 1
          },
          "autotypenumbers": "strict",
          "coloraxis": {
           "colorbar": {
            "outlinewidth": 0,
            "ticks": ""
           }
          },
          "colorscale": {
           "diverging": [
            [
             0,
             "#8e0152"
            ],
            [
             0.1,
             "#c51b7d"
            ],
            [
             0.2,
             "#de77ae"
            ],
            [
             0.3,
             "#f1b6da"
            ],
            [
             0.4,
             "#fde0ef"
            ],
            [
             0.5,
             "#f7f7f7"
            ],
            [
             0.6,
             "#e6f5d0"
            ],
            [
             0.7,
             "#b8e186"
            ],
            [
             0.8,
             "#7fbc41"
            ],
            [
             0.9,
             "#4d9221"
            ],
            [
             1,
             "#276419"
            ]
           ],
           "sequential": [
            [
             0,
             "#0d0887"
            ],
            [
             0.1111111111111111,
             "#46039f"
            ],
            [
             0.2222222222222222,
             "#7201a8"
            ],
            [
             0.3333333333333333,
             "#9c179e"
            ],
            [
             0.4444444444444444,
             "#bd3786"
            ],
            [
             0.5555555555555556,
             "#d8576b"
            ],
            [
             0.6666666666666666,
             "#ed7953"
            ],
            [
             0.7777777777777778,
             "#fb9f3a"
            ],
            [
             0.8888888888888888,
             "#fdca26"
            ],
            [
             1,
             "#f0f921"
            ]
           ],
           "sequentialminus": [
            [
             0,
             "#0d0887"
            ],
            [
             0.1111111111111111,
             "#46039f"
            ],
            [
             0.2222222222222222,
             "#7201a8"
            ],
            [
             0.3333333333333333,
             "#9c179e"
            ],
            [
             0.4444444444444444,
             "#bd3786"
            ],
            [
             0.5555555555555556,
             "#d8576b"
            ],
            [
             0.6666666666666666,
             "#ed7953"
            ],
            [
             0.7777777777777778,
             "#fb9f3a"
            ],
            [
             0.8888888888888888,
             "#fdca26"
            ],
            [
             1,
             "#f0f921"
            ]
           ]
          },
          "colorway": [
           "#636efa",
           "#EF553B",
           "#00cc96",
           "#ab63fa",
           "#FFA15A",
           "#19d3f3",
           "#FF6692",
           "#B6E880",
           "#FF97FF",
           "#FECB52"
          ],
          "font": {
           "color": "#2a3f5f"
          },
          "geo": {
           "bgcolor": "white",
           "lakecolor": "white",
           "landcolor": "#E5ECF6",
           "showlakes": true,
           "showland": true,
           "subunitcolor": "white"
          },
          "hoverlabel": {
           "align": "left"
          },
          "hovermode": "closest",
          "mapbox": {
           "style": "light"
          },
          "paper_bgcolor": "white",
          "plot_bgcolor": "#E5ECF6",
          "polar": {
           "angularaxis": {
            "gridcolor": "white",
            "linecolor": "white",
            "ticks": ""
           },
           "bgcolor": "#E5ECF6",
           "radialaxis": {
            "gridcolor": "white",
            "linecolor": "white",
            "ticks": ""
           }
          },
          "scene": {
           "xaxis": {
            "backgroundcolor": "#E5ECF6",
            "gridcolor": "white",
            "gridwidth": 2,
            "linecolor": "white",
            "showbackground": true,
            "ticks": "",
            "zerolinecolor": "white"
           },
           "yaxis": {
            "backgroundcolor": "#E5ECF6",
            "gridcolor": "white",
            "gridwidth": 2,
            "linecolor": "white",
            "showbackground": true,
            "ticks": "",
            "zerolinecolor": "white"
           },
           "zaxis": {
            "backgroundcolor": "#E5ECF6",
            "gridcolor": "white",
            "gridwidth": 2,
            "linecolor": "white",
            "showbackground": true,
            "ticks": "",
            "zerolinecolor": "white"
           }
          },
          "shapedefaults": {
           "line": {
            "color": "#2a3f5f"
           }
          },
          "ternary": {
           "aaxis": {
            "gridcolor": "white",
            "linecolor": "white",
            "ticks": ""
           },
           "baxis": {
            "gridcolor": "white",
            "linecolor": "white",
            "ticks": ""
           },
           "bgcolor": "#E5ECF6",
           "caxis": {
            "gridcolor": "white",
            "linecolor": "white",
            "ticks": ""
           }
          },
          "title": {
           "x": 0.05
          },
          "xaxis": {
           "automargin": true,
           "gridcolor": "white",
           "linecolor": "white",
           "ticks": "",
           "title": {
            "standoff": 15
           },
           "zerolinecolor": "white",
           "zerolinewidth": 2
          },
          "yaxis": {
           "automargin": true,
           "gridcolor": "white",
           "linecolor": "white",
           "ticks": "",
           "title": {
            "standoff": 15
           },
           "zerolinecolor": "white",
           "zerolinewidth": 2
          }
         }
        },
        "title": {
         "text": "Кривая выживания (Survival Analysis)"
        },
        "xaxis": {
         "showgrid": true,
         "title": {
          "text": "PD"
         }
        },
        "yaxis": {
         "showgrid": true,
         "title": {
          "text": "Probability of Survival"
         }
        }
       }
      }
     },
     "metadata": {},
     "output_type": "display_data"
    }
   ],
   "source": [
    "fpr, tpr, _ = roc_curve(data[\"status\"], data[\"PD\"])\n",
    "roc_auc = auc(fpr, tpr)\n",
    "\n",
    "# 1. ROC-AUC\n",
    "roc_fig = go.Figure()\n",
    "roc_fig.add_trace(go.Scatter(x=fpr, y=tpr, mode=\"lines\", name=f\"ROC curve (AUC = {roc_auc:.2f})\", line=dict(color=\"blue\")))\n",
    "roc_fig.add_trace(go.Scatter(x=[0, 1], y=[0, 1], mode=\"lines\", name=\"Random classifier\", line=dict(color=\"gray\", dash=\"dash\")))\n",
    "roc_fig.update_layout(\n",
    "    title=\"ROC-AUC Curve\",\n",
    "    xaxis_title=\"False Positive Rate\",\n",
    "    yaxis_title=\"True Positive Rate\",\n",
    "    xaxis=dict(showgrid=True),  # Добавляем сетку для оси X\n",
    "    yaxis=dict(showgrid=True)   # Добавляем сетку для оси Y\n",
    ")\n",
    "\n",
    "# 2. График распределения PD для двух классов\n",
    "hist_data = [data.loc[data[\"status\"] == 1, \"PD\"], data.loc[data[\"status\"] == 0, \"PD\"]]\n",
    "group_labels = [\"Дефолт\", \"Хороший\"]\n",
    "\n",
    "dist_fig = ff.create_distplot(hist_data, group_labels, show_hist=False, show_rug=False)\n",
    "dist_fig.update_layout(\n",
    "    title=\"Распределение вероятности дефолта (PD) по классам\",\n",
    "    xaxis_title=\"PD\",\n",
    "    yaxis_title=\"Density\",\n",
    "    xaxis=dict(showgrid=True),\n",
    "    yaxis=dict(showgrid=True)\n",
    ")\n",
    "\n",
    "# 3. Survival Analysis\n",
    "kmf = KaplanMeierFitter()\n",
    "T = data[\"PD\"]\n",
    "E = data[\"status\"]\n",
    "\n",
    "kmf.fit(T, event_observed=E, label=\"Survival Curve\")\n",
    "survival_fig = go.Figure()\n",
    "survival_fig.add_trace(go.Scatter(x=kmf.survival_function_.index, y=kmf.survival_function_[\"Survival Curve\"], mode=\"lines\", name=\"Survival Probability\", line=dict(color=\"green\")))\n",
    "survival_fig.update_layout(\n",
    "    title=\"Кривая выживания (Survival Analysis)\",\n",
    "    xaxis_title=\"PD\",\n",
    "    yaxis_title=\"Probability of Survival\",\n",
    "    xaxis=dict(showgrid=True),\n",
    "    yaxis=dict(showgrid=True)\n",
    ")\n",
    "\n",
    "# Отобразить все графики\n",
    "roc_fig.show()\n",
    "dist_fig.show()\n",
    "survival_fig.show()\n"
   ]
  },
  {
   "cell_type": "code",
   "execution_count": null,
   "metadata": {},
   "outputs": [],
   "source": []
  }
 ],
 "metadata": {
  "kernelspec": {
   "display_name": "Python 3",
   "language": "python",
   "name": "python3"
  },
  "language_info": {
   "codemirror_mode": {
    "name": "ipython",
    "version": 3
   },
   "file_extension": ".py",
   "mimetype": "text/x-python",
   "name": "python",
   "nbconvert_exporter": "python",
   "pygments_lexer": "ipython3",
   "version": "3.12.5"
  }
 },
 "nbformat": 4,
 "nbformat_minor": 2
}
